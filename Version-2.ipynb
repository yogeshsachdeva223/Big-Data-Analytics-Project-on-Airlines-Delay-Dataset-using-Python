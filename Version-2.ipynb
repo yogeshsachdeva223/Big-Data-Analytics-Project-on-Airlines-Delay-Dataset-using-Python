{
 "cells": [
  {
   "cell_type": "markdown",
   "metadata": {
    "id": "XY0PcjkVn-QG"
   },
   "source": [
    "<h1>Big Data & Data Analytics Project on Airlines Delay Dataset using Python</h1>\n",
    "<p>By Yogesh Sachdeva, Akhil Sharma and Dhruv Khosla</p>\n",
    "<h2>Introduction</h2>\n",
    "<p>In this project we tried to explore and visualize the airlines-delay dataset using python to test and train our machine leanring model.</p>\n",
    "<h2>Objectives of the Project:</h2>\n",
    "<p>1. Exploration & Visualizion the data <br>2. To examine if data has any structure<br>3. To do the Feature Engineering of data<br>4. To create the Data Pipelining<br>5. Perform the Hyperparameter tuning</p>\n",
    "<h2>About Dataset</h2>\n",
    "<p>The U.S. Department of Transportation's (DOT) Bureau of Transportation Statistics (BTS) tracks the on-time performance of domestic flights operated by large air carriers. Summary information on the number of on-time, delayed, canceled and diverted flights appears in DOT's monthly Air Travel Consumer Report, published about 30 days after the month's end, as well as in summary tables posted on this website. BTS began collecting details on the causes of flight delays in June 2003. Summary statistics and raw data are made available to the public at the time the Air Travel Consumer Report is released.</p>\n",
    "\n",
    "\n",
    "# This dataset is composed by the following variables:\n",
    "\n",
    "1.\t**Year**\t2008\n",
    "2.\t**Month**\t1-12\n",
    "3.\t**DayofMonth**\t1-31\n",
    "4.\t**DayOfWeek**\t1 (Monday) - 7 (Sunday)\n",
    "5.\t**DepTime**\tactual departure time (local, hhmm)\n",
    "6.\t**CRSDepTime**\tscheduled departure time (local, hhmm)\n",
    "7.\t**ArrTime**\tactual arrival time (local, hhmm)\n",
    "8.\t**CRSArrTime**\tscheduled arrival time (local, hhmm)\n",
    "9.\t**UniqueCarrier**\tunique carrier code\n",
    "10.\t**FlightNum**\tflight number\n",
    "11.\t**TailNum** plane tail number: aircraft registration, unique aircraft identifier\n",
    "12.\t**ActualElapsedTime**\tin minutes\n",
    "13.\t**CRSElapsedTime**\tin minutes\n",
    "14.\t**AirTime**\tin minutes\n",
    "15.\t**ArrDelay**\tarrival delay, in minutes: **A flight is counted as \"on time\" if it operated less than 15 minutes later the scheduled time shown in the carriers' Computerized Reservations Systems (CRS).** \n",
    "16.\t**DepDelay**\tdeparture delay, in minutes\n",
    "17.\t**Origin**\torigin IATA airport code\n",
    "18.\t**Dest**\tdestination IATA airport code\n",
    "19.\t**Distance**\tin miles\n",
    "20.\t**TaxiIn**\ttaxi in time, in minutes\n",
    "21.\t**TaxiOut**\ttaxi out time in minutes\n",
    "22.\t**Cancelled**\t*was the flight cancelled\n",
    "23.\t**CancellationCode**\treason for cancellation (A = carrier, B = weather, C = NAS, D = security)\n",
    "24.\t**Diverted**\t1 = yes, 0 = no\n",
    "25.\t**CarrierDelay**\tin minutes: Carrier delay is within the control of the air carrier. Examples of occurrences that may determine carrier delay are: aircraft cleaning, aircraft damage, awaiting the arrival of connecting passengers or crew, baggage, bird strike, cargo loading, catering, computer, outage-carrier equipment, crew legality (pilot or attendant rest), damage by hazardous goods, engineering inspection, fueling, handling disabled passengers, late crew, lavatory servicing, maintenance, oversales, potable water servicing, removal of unruly passenger, slow boarding or seating, stowing carry-on baggage, weight and balance delays.\n",
    "26.\t**WeatherDelay**\tin minutes: Weather delay is caused by extreme or hazardous weather conditions that are forecasted or manifest themselves on point of departure, enroute, or on point of arrival.\n",
    "27.\t**NASDelay**\tin minutes: Delay that is within the control of the National Airspace System (NAS) may include: non-extreme weather conditions, airport operations, heavy traffic volume, air traffic control, etc. \n",
    "28.\t**SecurityDelay**\tin minutes: Security delay is caused by evacuation of a terminal or concourse, re-boarding of aircraft because of security breach, inoperative screening equipment and/or long lines in excess of 29 minutes at screening areas.\n",
    "29.\t**LateAircraftDelay**\tin minutes: Arrival delay at an airport due to the late arrival of the same aircraft at a previous airport. The ripple effect of an earlier delay at downstream airports is referred to as delay propagation."
   ]
  },
  {
   "cell_type": "markdown",
   "metadata": {
    "id": "LompO9jjpnzj"
   },
   "source": [
    "## Install packages"
   ]
  },
  {
   "cell_type": "code",
   "execution_count": 2,
   "metadata": {
    "colab": {
     "base_uri": "https://localhost:8080/"
    },
    "id": "TOZHJOSJrqVm",
    "outputId": "61d8d728-223a-4581-de3c-3a5ab1ee2b01"
   },
   "outputs": [
    {
     "name": "stdout",
     "output_type": "stream",
     "text": [
      "Looking in indexes: https://pypi.org/simple, https://us-python.pkg.dev/colab-wheels/public/simple/\n",
      "Requirement already satisfied: scikit-learn in /usr/local/lib/python3.7/dist-packages (1.0.2)\n",
      "Requirement already satisfied: scipy>=1.1.0 in /usr/local/lib/python3.7/dist-packages (from scikit-learn) (1.7.3)\n",
      "Requirement already satisfied: threadpoolctl>=2.0.0 in /usr/local/lib/python3.7/dist-packages (from scikit-learn) (3.1.0)\n",
      "Requirement already satisfied: numpy>=1.14.6 in /usr/local/lib/python3.7/dist-packages (from scikit-learn) (1.21.6)\n",
      "Requirement already satisfied: joblib>=0.11 in /usr/local/lib/python3.7/dist-packages (from scikit-learn) (1.1.0)\n",
      "Looking in indexes: https://pypi.org/simple, https://us-python.pkg.dev/colab-wheels/public/simple/\n",
      "Collecting scikit-optimize\n",
      "  Downloading scikit_optimize-0.9.0-py2.py3-none-any.whl (100 kB)\n",
      "\u001b[K     |████████████████████████████████| 100 kB 6.7 MB/s \n",
      "\u001b[?25hRequirement already satisfied: numpy>=1.13.3 in /usr/local/lib/python3.7/dist-packages (from scikit-optimize) (1.21.6)\n",
      "Requirement already satisfied: scipy>=0.19.1 in /usr/local/lib/python3.7/dist-packages (from scikit-optimize) (1.7.3)\n",
      "Collecting pyaml>=16.9\n",
      "  Downloading pyaml-21.10.1-py2.py3-none-any.whl (24 kB)\n",
      "Requirement already satisfied: scikit-learn>=0.20.0 in /usr/local/lib/python3.7/dist-packages (from scikit-optimize) (1.0.2)\n",
      "Requirement already satisfied: joblib>=0.11 in /usr/local/lib/python3.7/dist-packages (from scikit-optimize) (1.1.0)\n",
      "Requirement already satisfied: PyYAML in /usr/local/lib/python3.7/dist-packages (from pyaml>=16.9->scikit-optimize) (6.0)\n",
      "Requirement already satisfied: threadpoolctl>=2.0.0 in /usr/local/lib/python3.7/dist-packages (from scikit-learn>=0.20.0->scikit-optimize) (3.1.0)\n",
      "Installing collected packages: pyaml, scikit-optimize\n",
      "Successfully installed pyaml-21.10.1 scikit-optimize-0.9.0\n",
      "Looking in indexes: https://pypi.org/simple, https://us-python.pkg.dev/colab-wheels/public/simple/\n",
      "Requirement already satisfied: scikit-optimize[plots] in /usr/local/lib/python3.7/dist-packages (0.9.0)\n",
      "Requirement already satisfied: scipy>=0.19.1 in /usr/local/lib/python3.7/dist-packages (from scikit-optimize[plots]) (1.7.3)\n",
      "Requirement already satisfied: pyaml>=16.9 in /usr/local/lib/python3.7/dist-packages (from scikit-optimize[plots]) (21.10.1)\n",
      "Requirement already satisfied: joblib>=0.11 in /usr/local/lib/python3.7/dist-packages (from scikit-optimize[plots]) (1.1.0)\n",
      "Requirement already satisfied: scikit-learn>=0.20.0 in /usr/local/lib/python3.7/dist-packages (from scikit-optimize[plots]) (1.0.2)\n",
      "Requirement already satisfied: numpy>=1.13.3 in /usr/local/lib/python3.7/dist-packages (from scikit-optimize[plots]) (1.21.6)\n",
      "Requirement already satisfied: matplotlib>=2.0.0 in /usr/local/lib/python3.7/dist-packages (from scikit-optimize[plots]) (3.2.2)\n",
      "Requirement already satisfied: cycler>=0.10 in /usr/local/lib/python3.7/dist-packages (from matplotlib>=2.0.0->scikit-optimize[plots]) (0.11.0)\n",
      "Requirement already satisfied: pyparsing!=2.0.4,!=2.1.2,!=2.1.6,>=2.0.1 in /usr/local/lib/python3.7/dist-packages (from matplotlib>=2.0.0->scikit-optimize[plots]) (3.0.9)\n",
      "Requirement already satisfied: python-dateutil>=2.1 in /usr/local/lib/python3.7/dist-packages (from matplotlib>=2.0.0->scikit-optimize[plots]) (2.8.2)\n",
      "Requirement already satisfied: kiwisolver>=1.0.1 in /usr/local/lib/python3.7/dist-packages (from matplotlib>=2.0.0->scikit-optimize[plots]) (1.4.4)\n",
      "Requirement already satisfied: typing-extensions in /usr/local/lib/python3.7/dist-packages (from kiwisolver>=1.0.1->matplotlib>=2.0.0->scikit-optimize[plots]) (4.1.1)\n",
      "Requirement already satisfied: PyYAML in /usr/local/lib/python3.7/dist-packages (from pyaml>=16.9->scikit-optimize[plots]) (6.0)\n",
      "Requirement already satisfied: six>=1.5 in /usr/local/lib/python3.7/dist-packages (from python-dateutil>=2.1->matplotlib>=2.0.0->scikit-optimize[plots]) (1.15.0)\n",
      "Requirement already satisfied: threadpoolctl>=2.0.0 in /usr/local/lib/python3.7/dist-packages (from scikit-learn>=0.20.0->scikit-optimize[plots]) (3.1.0)\n"
     ]
    }
   ],
   "source": [
    "# 0.0 \n",
    "#Install recent version of sklearn for visualizing pipelines\n",
    "!pip install --upgrade scikit-learn\n",
    "\n",
    "# 0.1\n",
    "# For skopt routines\n",
    "! pip install scikit-optimize\n",
    "\n",
    "# 0.2 For plotting skopt results\n",
    "! pip install 'scikit-optimize[plots]'\n",
    "\n"
   ]
  },
  {
   "cell_type": "markdown",
   "metadata": {
    "id": "JPw3ykg-taO6"
   },
   "source": [
    "## Call libraries\n",
    "(#1--#2.0)"
   ]
  },
  {
   "cell_type": "code",
   "execution_count": 3,
   "metadata": {
    "id": "8E5P-o6ltpZg"
   },
   "outputs": [],
   "source": [
    "# 1.0 Clear ipython memory\n",
    "#%reset -f\n",
    "\n",
    "# 1.1 Data manipulation and plotting modules\n",
    "import numpy as np\n",
    "import pandas as pd\n",
    "\n",
    "# 1.2 Data pre-processing\n",
    "#     z = (x-mean)/stdev\n",
    "from sklearn.preprocessing import StandardScaler as ss\n",
    "\n",
    "# 1.3 Dimensionality reduction and noise removal\n",
    "from sklearn.decomposition import PCA\n",
    "\n",
    "# 1.4 Data splitting and model parameter search\n",
    "from sklearn.model_selection import train_test_split\n",
    "from sklearn.model_selection import StratifiedKFold\n",
    "\n",
    "# 1.5 Model pipelining\n",
    "from sklearn.pipeline import Pipeline\n",
    "from sklearn.pipeline import make_pipeline\n",
    "from sklearn.compose import ColumnTransformer\n",
    "\n",
    "# 1.6 Hyperparameter optimization\n",
    "from sklearn.model_selection import GridSearchCV\n",
    "from sklearn.model_selection import RandomizedSearchCV\n",
    "\n",
    "# 1.7.1\n",
    "#     pip install scikit-optimize\n",
    "#     pip install 'scikit-optimize[plots]'\n",
    "#     Refer: https://github.com/scikit-optimize/scikit-optimize\n",
    "#     conda install -c conda-forge scikit-optimize\n",
    "from skopt import BayesSearchCV \n",
    "from skopt.space import Real, Categorical, Integer\n",
    "\n",
    "# 1.8 Modeling modules\n",
    "#     Call sklearn wrapper of xgboost\n",
    "# \"\"\"Scikit-Learn Wrapper interface for XGBoost.\"\"\"\n",
    "#  \"\"\"Implementation of the Scikit-Learn API for XGBoost.\n",
    "# https://xgboost.readthedocs.io/en/latest/python/python_api.html#module-xgboost.sklearn\n",
    "# Stackoverflow:\n",
    "# https://stackoverflow.com/a/34696477\n",
    "# https://stackoverflow.com/a/46947191\n",
    "# Install as: conda install -c anaconda py-xgboost\n",
    "from xgboost.sklearn import XGBClassifier\n",
    "\n",
    "## Transformers for predictors:\n",
    "\n",
    "# 1.9 Class for imputing missing values\n",
    "# https://scikit-learn.org/stable/modules/generated/sklearn.impute.SimpleImputer.html\n",
    "from sklearn.impute import SimpleImputer\n",
    "\n",
    "# 1.10 One hot encode categorical data--Convert to dummy\n",
    "# https://scikit-learn.org/stable/modules/generated/sklearn.preprocessing.OneHotEncoder.html\n",
    "from sklearn.preprocessing import OneHotEncoder \n",
    "\n",
    "\n",
    "## Estimator\n",
    "\n",
    "# 1.11 Estimator\n",
    "# Ref: https://scikit-learn.org/stable/modules/generated/sklearn.tree.DecisionTreeClassifier.html\n",
    "# User guide: https://scikit-learn.org/stable/modules/tree.html\n",
    "from sklearn.tree import DecisionTreeClassifier \n",
    "\n",
    "# 1.12 To plot graphs and pipeline diagram\n",
    "import matplotlib.pyplot as plt\n",
    "import plotly.express as px\n",
    "import seaborn as sns\n",
    "from sklearn import set_config"
   ]
  },
  {
   "cell_type": "code",
   "execution_count": 4,
   "metadata": {
    "id": "s5rxZcx3vVhQ"
   },
   "outputs": [],
   "source": [
    "# 1.13 Model evaluation metrics\n",
    "from sklearn.metrics import accuracy_score, f1_score\n",
    "from sklearn.metrics import plot_roc_curve\n",
    "from sklearn.metrics import confusion_matrix\n",
    "\n",
    "# 1.14\n",
    "from xgboost import plot_importance\n",
    "\n",
    "# 1.15 Permutation feature importance\n",
    "from sklearn.inspection import permutation_importance"
   ]
  },
  {
   "cell_type": "code",
   "execution_count": 5,
   "metadata": {
    "id": "H8Mzm0DpvpX-"
   },
   "outputs": [],
   "source": [
    "# 1.16 Misc\n",
    "import time\n",
    "import os\n",
    "import gc\n",
    "import random\n",
    "\n",
    "# 1.17 Used in Randomized parameter search\n",
    "from scipy.stats import uniform"
   ]
  },
  {
   "cell_type": "code",
   "execution_count": 6,
   "metadata": {
    "id": "J1BaBhbDv6vA"
   },
   "outputs": [],
   "source": [
    "# 1.18\n",
    "from IPython.core.interactiveshell import InteractiveShell\n",
    "InteractiveShell.ast_node_interactivity = \"all\"\n",
    "\n",
    "# 1.19 Import warnings module\n",
    "#     No FutureWarnings display\n",
    " \n",
    "import warnings\n",
    "# Do not print warnings on screen\n",
    "warnings.filterwarnings(\"ignore\")"
   ]
  },
  {
   "cell_type": "code",
   "execution_count": 7,
   "metadata": {
    "id": "gxBDhRqswMz8"
   },
   "outputs": [],
   "source": [
    "# 1.20 Set option to dislay many rows\n",
    "pd.set_option('display.max_columns', 100)"
   ]
  },
  {
   "cell_type": "code",
   "execution_count": 8,
   "metadata": {
    "colab": {
     "base_uri": "https://localhost:8080/"
    },
    "id": "mkHu3Wd_wUdo",
    "outputId": "4ebb357c-a52b-4dbc-a304-47be2a147cbb"
   },
   "outputs": [
    {
     "name": "stdout",
     "output_type": "stream",
     "text": [
      "Mounted at /content/drive\n"
     ]
    }
   ],
   "source": [
    "# 1.21 \n",
    "from google.colab import drive\n",
    "# Path where to mount MyDrive\n",
    "# We will mount it at /content/drive\n",
    "# This drive will be created\n",
    "drive.mount('/content/drive')"
   ]
  },
  {
   "cell_type": "markdown",
   "metadata": {
    "id": "R7zwl5IDwiOB"
   },
   "source": [
    "# Reading & Preprocessing the data to uderstand the data structure and perform the feature engineering\n",
    "(#2.1 -- #3.0)"
   ]
  },
  {
   "cell_type": "code",
   "execution_count": 9,
   "metadata": {
    "id": "OU6HBpBjxIsf"
   },
   "outputs": [],
   "source": [
    "################# Reading the data #################\n",
    "\n",
    "#2.1 Reading the data file\n",
    "df = ad = pd.read_csv(\"/content/drive/MyDrive/BDDA/Mid Term Project Datasets/Airlines Delay Dataset/DelayedFlights.csv\")\n",
    "\n"
   ]
  },
  {
   "cell_type": "code",
   "execution_count": 10,
   "metadata": {
    "colab": {
     "base_uri": "https://localhost:8080/",
     "height": 982
    },
    "id": "mDpKRYja0ILt",
    "outputId": "b1b5416c-dd67-445a-ebb5-ce773653dc10"
   },
   "outputs": [
    {
     "data": {
      "text/html": [
       "\n",
       "  <div id=\"df-13a03241-8b6e-471b-a543-6dd4c072fb2f\">\n",
       "    <div class=\"colab-df-container\">\n",
       "      <div>\n",
       "<style scoped>\n",
       "    .dataframe tbody tr th:only-of-type {\n",
       "        vertical-align: middle;\n",
       "    }\n",
       "\n",
       "    .dataframe tbody tr th {\n",
       "        vertical-align: top;\n",
       "    }\n",
       "\n",
       "    .dataframe thead th {\n",
       "        text-align: right;\n",
       "    }\n",
       "</style>\n",
       "<table border=\"1\" class=\"dataframe\">\n",
       "  <thead>\n",
       "    <tr style=\"text-align: right;\">\n",
       "      <th></th>\n",
       "      <th>Unnamed: 0</th>\n",
       "      <th>Year</th>\n",
       "      <th>Month</th>\n",
       "      <th>DayofMonth</th>\n",
       "      <th>DayOfWeek</th>\n",
       "      <th>DepTime</th>\n",
       "      <th>CRSDepTime</th>\n",
       "      <th>ArrTime</th>\n",
       "      <th>CRSArrTime</th>\n",
       "      <th>UniqueCarrier</th>\n",
       "      <th>FlightNum</th>\n",
       "      <th>TailNum</th>\n",
       "      <th>ActualElapsedTime</th>\n",
       "      <th>CRSElapsedTime</th>\n",
       "      <th>AirTime</th>\n",
       "      <th>ArrDelay</th>\n",
       "      <th>DepDelay</th>\n",
       "      <th>Origin</th>\n",
       "      <th>Dest</th>\n",
       "      <th>Distance</th>\n",
       "      <th>TaxiIn</th>\n",
       "      <th>TaxiOut</th>\n",
       "      <th>Cancelled</th>\n",
       "      <th>CancellationCode</th>\n",
       "      <th>Diverted</th>\n",
       "      <th>CarrierDelay</th>\n",
       "      <th>WeatherDelay</th>\n",
       "      <th>NASDelay</th>\n",
       "      <th>SecurityDelay</th>\n",
       "      <th>LateAircraftDelay</th>\n",
       "    </tr>\n",
       "  </thead>\n",
       "  <tbody>\n",
       "    <tr>\n",
       "      <th>0</th>\n",
       "      <td>0</td>\n",
       "      <td>2008</td>\n",
       "      <td>1</td>\n",
       "      <td>3</td>\n",
       "      <td>4</td>\n",
       "      <td>2003.0</td>\n",
       "      <td>1955</td>\n",
       "      <td>2211.0</td>\n",
       "      <td>2225</td>\n",
       "      <td>WN</td>\n",
       "      <td>335</td>\n",
       "      <td>N712SW</td>\n",
       "      <td>128.0</td>\n",
       "      <td>150.0</td>\n",
       "      <td>116.0</td>\n",
       "      <td>-14.0</td>\n",
       "      <td>8.0</td>\n",
       "      <td>IAD</td>\n",
       "      <td>TPA</td>\n",
       "      <td>810</td>\n",
       "      <td>4.0</td>\n",
       "      <td>8.0</td>\n",
       "      <td>0</td>\n",
       "      <td>N</td>\n",
       "      <td>0</td>\n",
       "      <td>NaN</td>\n",
       "      <td>NaN</td>\n",
       "      <td>NaN</td>\n",
       "      <td>NaN</td>\n",
       "      <td>NaN</td>\n",
       "    </tr>\n",
       "    <tr>\n",
       "      <th>1</th>\n",
       "      <td>1</td>\n",
       "      <td>2008</td>\n",
       "      <td>1</td>\n",
       "      <td>3</td>\n",
       "      <td>4</td>\n",
       "      <td>754.0</td>\n",
       "      <td>735</td>\n",
       "      <td>1002.0</td>\n",
       "      <td>1000</td>\n",
       "      <td>WN</td>\n",
       "      <td>3231</td>\n",
       "      <td>N772SW</td>\n",
       "      <td>128.0</td>\n",
       "      <td>145.0</td>\n",
       "      <td>113.0</td>\n",
       "      <td>2.0</td>\n",
       "      <td>19.0</td>\n",
       "      <td>IAD</td>\n",
       "      <td>TPA</td>\n",
       "      <td>810</td>\n",
       "      <td>5.0</td>\n",
       "      <td>10.0</td>\n",
       "      <td>0</td>\n",
       "      <td>N</td>\n",
       "      <td>0</td>\n",
       "      <td>NaN</td>\n",
       "      <td>NaN</td>\n",
       "      <td>NaN</td>\n",
       "      <td>NaN</td>\n",
       "      <td>NaN</td>\n",
       "    </tr>\n",
       "    <tr>\n",
       "      <th>2</th>\n",
       "      <td>2</td>\n",
       "      <td>2008</td>\n",
       "      <td>1</td>\n",
       "      <td>3</td>\n",
       "      <td>4</td>\n",
       "      <td>628.0</td>\n",
       "      <td>620</td>\n",
       "      <td>804.0</td>\n",
       "      <td>750</td>\n",
       "      <td>WN</td>\n",
       "      <td>448</td>\n",
       "      <td>N428WN</td>\n",
       "      <td>96.0</td>\n",
       "      <td>90.0</td>\n",
       "      <td>76.0</td>\n",
       "      <td>14.0</td>\n",
       "      <td>8.0</td>\n",
       "      <td>IND</td>\n",
       "      <td>BWI</td>\n",
       "      <td>515</td>\n",
       "      <td>3.0</td>\n",
       "      <td>17.0</td>\n",
       "      <td>0</td>\n",
       "      <td>N</td>\n",
       "      <td>0</td>\n",
       "      <td>NaN</td>\n",
       "      <td>NaN</td>\n",
       "      <td>NaN</td>\n",
       "      <td>NaN</td>\n",
       "      <td>NaN</td>\n",
       "    </tr>\n",
       "    <tr>\n",
       "      <th>3</th>\n",
       "      <td>4</td>\n",
       "      <td>2008</td>\n",
       "      <td>1</td>\n",
       "      <td>3</td>\n",
       "      <td>4</td>\n",
       "      <td>1829.0</td>\n",
       "      <td>1755</td>\n",
       "      <td>1959.0</td>\n",
       "      <td>1925</td>\n",
       "      <td>WN</td>\n",
       "      <td>3920</td>\n",
       "      <td>N464WN</td>\n",
       "      <td>90.0</td>\n",
       "      <td>90.0</td>\n",
       "      <td>77.0</td>\n",
       "      <td>34.0</td>\n",
       "      <td>34.0</td>\n",
       "      <td>IND</td>\n",
       "      <td>BWI</td>\n",
       "      <td>515</td>\n",
       "      <td>3.0</td>\n",
       "      <td>10.0</td>\n",
       "      <td>0</td>\n",
       "      <td>N</td>\n",
       "      <td>0</td>\n",
       "      <td>2.0</td>\n",
       "      <td>0.0</td>\n",
       "      <td>0.0</td>\n",
       "      <td>0.0</td>\n",
       "      <td>32.0</td>\n",
       "    </tr>\n",
       "    <tr>\n",
       "      <th>4</th>\n",
       "      <td>5</td>\n",
       "      <td>2008</td>\n",
       "      <td>1</td>\n",
       "      <td>3</td>\n",
       "      <td>4</td>\n",
       "      <td>1940.0</td>\n",
       "      <td>1915</td>\n",
       "      <td>2121.0</td>\n",
       "      <td>2110</td>\n",
       "      <td>WN</td>\n",
       "      <td>378</td>\n",
       "      <td>N726SW</td>\n",
       "      <td>101.0</td>\n",
       "      <td>115.0</td>\n",
       "      <td>87.0</td>\n",
       "      <td>11.0</td>\n",
       "      <td>25.0</td>\n",
       "      <td>IND</td>\n",
       "      <td>JAX</td>\n",
       "      <td>688</td>\n",
       "      <td>4.0</td>\n",
       "      <td>10.0</td>\n",
       "      <td>0</td>\n",
       "      <td>N</td>\n",
       "      <td>0</td>\n",
       "      <td>NaN</td>\n",
       "      <td>NaN</td>\n",
       "      <td>NaN</td>\n",
       "      <td>NaN</td>\n",
       "      <td>NaN</td>\n",
       "    </tr>\n",
       "  </tbody>\n",
       "</table>\n",
       "</div>\n",
       "      <button class=\"colab-df-convert\" onclick=\"convertToInteractive('df-13a03241-8b6e-471b-a543-6dd4c072fb2f')\"\n",
       "              title=\"Convert this dataframe to an interactive table.\"\n",
       "              style=\"display:none;\">\n",
       "        \n",
       "  <svg xmlns=\"http://www.w3.org/2000/svg\" height=\"24px\"viewBox=\"0 0 24 24\"\n",
       "       width=\"24px\">\n",
       "    <path d=\"M0 0h24v24H0V0z\" fill=\"none\"/>\n",
       "    <path d=\"M18.56 5.44l.94 2.06.94-2.06 2.06-.94-2.06-.94-.94-2.06-.94 2.06-2.06.94zm-11 1L8.5 8.5l.94-2.06 2.06-.94-2.06-.94L8.5 2.5l-.94 2.06-2.06.94zm10 10l.94 2.06.94-2.06 2.06-.94-2.06-.94-.94-2.06-.94 2.06-2.06.94z\"/><path d=\"M17.41 7.96l-1.37-1.37c-.4-.4-.92-.59-1.43-.59-.52 0-1.04.2-1.43.59L10.3 9.45l-7.72 7.72c-.78.78-.78 2.05 0 2.83L4 21.41c.39.39.9.59 1.41.59.51 0 1.02-.2 1.41-.59l7.78-7.78 2.81-2.81c.8-.78.8-2.07 0-2.86zM5.41 20L4 18.59l7.72-7.72 1.47 1.35L5.41 20z\"/>\n",
       "  </svg>\n",
       "      </button>\n",
       "      \n",
       "  <style>\n",
       "    .colab-df-container {\n",
       "      display:flex;\n",
       "      flex-wrap:wrap;\n",
       "      gap: 12px;\n",
       "    }\n",
       "\n",
       "    .colab-df-convert {\n",
       "      background-color: #E8F0FE;\n",
       "      border: none;\n",
       "      border-radius: 50%;\n",
       "      cursor: pointer;\n",
       "      display: none;\n",
       "      fill: #1967D2;\n",
       "      height: 32px;\n",
       "      padding: 0 0 0 0;\n",
       "      width: 32px;\n",
       "    }\n",
       "\n",
       "    .colab-df-convert:hover {\n",
       "      background-color: #E2EBFA;\n",
       "      box-shadow: 0px 1px 2px rgba(60, 64, 67, 0.3), 0px 1px 3px 1px rgba(60, 64, 67, 0.15);\n",
       "      fill: #174EA6;\n",
       "    }\n",
       "\n",
       "    [theme=dark] .colab-df-convert {\n",
       "      background-color: #3B4455;\n",
       "      fill: #D2E3FC;\n",
       "    }\n",
       "\n",
       "    [theme=dark] .colab-df-convert:hover {\n",
       "      background-color: #434B5C;\n",
       "      box-shadow: 0px 1px 3px 1px rgba(0, 0, 0, 0.15);\n",
       "      filter: drop-shadow(0px 1px 2px rgba(0, 0, 0, 0.3));\n",
       "      fill: #FFFFFF;\n",
       "    }\n",
       "  </style>\n",
       "\n",
       "      <script>\n",
       "        const buttonEl =\n",
       "          document.querySelector('#df-13a03241-8b6e-471b-a543-6dd4c072fb2f button.colab-df-convert');\n",
       "        buttonEl.style.display =\n",
       "          google.colab.kernel.accessAllowed ? 'block' : 'none';\n",
       "\n",
       "        async function convertToInteractive(key) {\n",
       "          const element = document.querySelector('#df-13a03241-8b6e-471b-a543-6dd4c072fb2f');\n",
       "          const dataTable =\n",
       "            await google.colab.kernel.invokeFunction('convertToInteractive',\n",
       "                                                     [key], {});\n",
       "          if (!dataTable) return;\n",
       "\n",
       "          const docLinkHtml = 'Like what you see? Visit the ' +\n",
       "            '<a target=\"_blank\" href=https://colab.research.google.com/notebooks/data_table.ipynb>data table notebook</a>'\n",
       "            + ' to learn more about interactive tables.';\n",
       "          element.innerHTML = '';\n",
       "          dataTable['output_type'] = 'display_data';\n",
       "          await google.colab.output.renderOutput(dataTable, element);\n",
       "          const docLink = document.createElement('div');\n",
       "          docLink.innerHTML = docLinkHtml;\n",
       "          element.appendChild(docLink);\n",
       "        }\n",
       "      </script>\n",
       "    </div>\n",
       "  </div>\n",
       "  "
      ],
      "text/plain": [
       "   Unnamed: 0  Year  Month  DayofMonth  DayOfWeek  DepTime  CRSDepTime  \\\n",
       "0           0  2008      1           3          4   2003.0        1955   \n",
       "1           1  2008      1           3          4    754.0         735   \n",
       "2           2  2008      1           3          4    628.0         620   \n",
       "3           4  2008      1           3          4   1829.0        1755   \n",
       "4           5  2008      1           3          4   1940.0        1915   \n",
       "\n",
       "   ArrTime  CRSArrTime UniqueCarrier  FlightNum TailNum  ActualElapsedTime  \\\n",
       "0   2211.0        2225            WN        335  N712SW              128.0   \n",
       "1   1002.0        1000            WN       3231  N772SW              128.0   \n",
       "2    804.0         750            WN        448  N428WN               96.0   \n",
       "3   1959.0        1925            WN       3920  N464WN               90.0   \n",
       "4   2121.0        2110            WN        378  N726SW              101.0   \n",
       "\n",
       "   CRSElapsedTime  AirTime  ArrDelay  DepDelay Origin Dest  Distance  TaxiIn  \\\n",
       "0           150.0    116.0     -14.0       8.0    IAD  TPA       810     4.0   \n",
       "1           145.0    113.0       2.0      19.0    IAD  TPA       810     5.0   \n",
       "2            90.0     76.0      14.0       8.0    IND  BWI       515     3.0   \n",
       "3            90.0     77.0      34.0      34.0    IND  BWI       515     3.0   \n",
       "4           115.0     87.0      11.0      25.0    IND  JAX       688     4.0   \n",
       "\n",
       "   TaxiOut  Cancelled CancellationCode  Diverted  CarrierDelay  WeatherDelay  \\\n",
       "0      8.0          0                N         0           NaN           NaN   \n",
       "1     10.0          0                N         0           NaN           NaN   \n",
       "2     17.0          0                N         0           NaN           NaN   \n",
       "3     10.0          0                N         0           2.0           0.0   \n",
       "4     10.0          0                N         0           NaN           NaN   \n",
       "\n",
       "   NASDelay  SecurityDelay  LateAircraftDelay  \n",
       "0       NaN            NaN                NaN  \n",
       "1       NaN            NaN                NaN  \n",
       "2       NaN            NaN                NaN  \n",
       "3       0.0            0.0               32.0  \n",
       "4       NaN            NaN                NaN  "
      ]
     },
     "execution_count": 10,
     "metadata": {},
     "output_type": "execute_result"
    },
    {
     "name": "stdout",
     "output_type": "stream",
     "text": [
      "\n",
      "-----\n",
      "\n"
     ]
    },
    {
     "data": {
      "text/plain": [
       "Unnamed: 0             int64\n",
       "Year                   int64\n",
       "Month                  int64\n",
       "DayofMonth             int64\n",
       "DayOfWeek              int64\n",
       "DepTime              float64\n",
       "CRSDepTime             int64\n",
       "ArrTime              float64\n",
       "CRSArrTime             int64\n",
       "UniqueCarrier         object\n",
       "FlightNum              int64\n",
       "TailNum               object\n",
       "ActualElapsedTime    float64\n",
       "CRSElapsedTime       float64\n",
       "AirTime              float64\n",
       "ArrDelay             float64\n",
       "DepDelay             float64\n",
       "Origin                object\n",
       "Dest                  object\n",
       "Distance               int64\n",
       "TaxiIn               float64\n",
       "TaxiOut              float64\n",
       "Cancelled              int64\n",
       "CancellationCode      object\n",
       "Diverted               int64\n",
       "CarrierDelay         float64\n",
       "WeatherDelay         float64\n",
       "NASDelay             float64\n",
       "SecurityDelay        float64\n",
       "LateAircraftDelay    float64\n",
       "dtype: object"
      ]
     },
     "execution_count": 10,
     "metadata": {},
     "output_type": "execute_result"
    },
    {
     "name": "stdout",
     "output_type": "stream",
     "text": [
      "\n",
      "------\n",
      "\n"
     ]
    },
    {
     "data": {
      "text/plain": [
       "float64    14\n",
       "int64      11\n",
       "object      5\n",
       "dtype: int64"
      ]
     },
     "execution_count": 10,
     "metadata": {},
     "output_type": "execute_result"
    }
   ],
   "source": [
    "# 2.2 Have a look at the data\n",
    "df.head()\n",
    "print(\"\\n-----\\n\")\n",
    "df.dtypes\n",
    "print(\"\\n------\\n\")\n",
    "df.dtypes.value_counts()"
   ]
  },
  {
   "cell_type": "code",
   "execution_count": 11,
   "metadata": {
    "colab": {
     "base_uri": "https://localhost:8080/"
    },
    "id": "O9Lp9qkO0Ubi",
    "outputId": "e1a93288-58f7-4f2d-90f7-96a1b664c27a"
   },
   "outputs": [
    {
     "name": "stdout",
     "output_type": "stream",
     "text": [
      "Data Shape: (1936758, 30)\n"
     ]
    }
   ],
   "source": [
    "print('Data Shape:', df.shape)\n",
    "#2.3 Checking dataframe shape"
   ]
  },
  {
   "cell_type": "code",
   "execution_count": 12,
   "metadata": {
    "id": "c1254LQw3S7C"
   },
   "outputs": [],
   "source": [
    "#2.4 Remove column name 'Unnamed: 0'\n",
    "df=df.drop(['Unnamed: 0'], axis=1)"
   ]
  },
  {
   "cell_type": "code",
   "execution_count": 13,
   "metadata": {
    "id": "LlsDWJwX1qJe"
   },
   "outputs": [],
   "source": [
    "df= df.dropna()\n",
    "#2.5 Dropping na values"
   ]
  },
  {
   "cell_type": "code",
   "execution_count": 14,
   "metadata": {
    "colab": {
     "base_uri": "https://localhost:8080/",
     "height": 364
    },
    "id": "n2W0tm7f1yEp",
    "outputId": "6bd6626f-a8bf-40fe-f6bc-20f6efd8d869"
   },
   "outputs": [
    {
     "data": {
      "text/html": [
       "\n",
       "  <div id=\"df-6efe4835-c4b3-4cd4-83cb-fc8fdabdef06\">\n",
       "    <div class=\"colab-df-container\">\n",
       "      <div>\n",
       "<style scoped>\n",
       "    .dataframe tbody tr th:only-of-type {\n",
       "        vertical-align: middle;\n",
       "    }\n",
       "\n",
       "    .dataframe tbody tr th {\n",
       "        vertical-align: top;\n",
       "    }\n",
       "\n",
       "    .dataframe thead th {\n",
       "        text-align: right;\n",
       "    }\n",
       "</style>\n",
       "<table border=\"1\" class=\"dataframe\">\n",
       "  <thead>\n",
       "    <tr style=\"text-align: right;\">\n",
       "      <th></th>\n",
       "      <th>Year</th>\n",
       "      <th>Month</th>\n",
       "      <th>DayofMonth</th>\n",
       "      <th>DayOfWeek</th>\n",
       "      <th>DepTime</th>\n",
       "      <th>CRSDepTime</th>\n",
       "      <th>ArrTime</th>\n",
       "      <th>CRSArrTime</th>\n",
       "      <th>FlightNum</th>\n",
       "      <th>ActualElapsedTime</th>\n",
       "      <th>CRSElapsedTime</th>\n",
       "      <th>AirTime</th>\n",
       "      <th>ArrDelay</th>\n",
       "      <th>DepDelay</th>\n",
       "      <th>Distance</th>\n",
       "      <th>TaxiIn</th>\n",
       "      <th>TaxiOut</th>\n",
       "      <th>Cancelled</th>\n",
       "      <th>Diverted</th>\n",
       "      <th>CarrierDelay</th>\n",
       "      <th>WeatherDelay</th>\n",
       "      <th>NASDelay</th>\n",
       "      <th>SecurityDelay</th>\n",
       "      <th>LateAircraftDelay</th>\n",
       "    </tr>\n",
       "  </thead>\n",
       "  <tbody>\n",
       "    <tr>\n",
       "      <th>count</th>\n",
       "      <td>1247486.0</td>\n",
       "      <td>1.247486e+06</td>\n",
       "      <td>1.247486e+06</td>\n",
       "      <td>1.247486e+06</td>\n",
       "      <td>1.247486e+06</td>\n",
       "      <td>1.247486e+06</td>\n",
       "      <td>1.247486e+06</td>\n",
       "      <td>1.247486e+06</td>\n",
       "      <td>1.247486e+06</td>\n",
       "      <td>1.247486e+06</td>\n",
       "      <td>1.247486e+06</td>\n",
       "      <td>1.247486e+06</td>\n",
       "      <td>1.247486e+06</td>\n",
       "      <td>1.247486e+06</td>\n",
       "      <td>1.247486e+06</td>\n",
       "      <td>1.247486e+06</td>\n",
       "      <td>1.247486e+06</td>\n",
       "      <td>1247486.0</td>\n",
       "      <td>1247486.0</td>\n",
       "      <td>1.247486e+06</td>\n",
       "      <td>1.247486e+06</td>\n",
       "      <td>1.247486e+06</td>\n",
       "      <td>1.247486e+06</td>\n",
       "      <td>1.247486e+06</td>\n",
       "    </tr>\n",
       "    <tr>\n",
       "      <th>mean</th>\n",
       "      <td>2008.0</td>\n",
       "      <td>6.065399e+00</td>\n",
       "      <td>1.572542e+01</td>\n",
       "      <td>3.980082e+00</td>\n",
       "      <td>1.558832e+03</td>\n",
       "      <td>1.487949e+03</td>\n",
       "      <td>1.616749e+03</td>\n",
       "      <td>1.652458e+03</td>\n",
       "      <td>2.276526e+03</td>\n",
       "      <td>1.353779e+02</td>\n",
       "      <td>1.317641e+02</td>\n",
       "      <td>1.074203e+02</td>\n",
       "      <td>6.329104e+01</td>\n",
       "      <td>5.967721e+01</td>\n",
       "      <td>7.415867e+02</td>\n",
       "      <td>7.297232e+00</td>\n",
       "      <td>2.066033e+01</td>\n",
       "      <td>0.0</td>\n",
       "      <td>0.0</td>\n",
       "      <td>1.917943e+01</td>\n",
       "      <td>3.703355e+00</td>\n",
       "      <td>1.502162e+01</td>\n",
       "      <td>9.013728e-02</td>\n",
       "      <td>2.529649e+01</td>\n",
       "    </tr>\n",
       "    <tr>\n",
       "      <th>std</th>\n",
       "      <td>0.0</td>\n",
       "      <td>3.508937e+00</td>\n",
       "      <td>8.793008e+00</td>\n",
       "      <td>1.993270e+00</td>\n",
       "      <td>4.543300e+02</td>\n",
       "      <td>4.211782e+02</td>\n",
       "      <td>5.839416e+02</td>\n",
       "      <td>4.617372e+02</td>\n",
       "      <td>1.997547e+03</td>\n",
       "      <td>7.229636e+01</td>\n",
       "      <td>6.953201e+01</td>\n",
       "      <td>6.817454e+01</td>\n",
       "      <td>6.075380e+01</td>\n",
       "      <td>5.986881e+01</td>\n",
       "      <td>5.593643e+02</td>\n",
       "      <td>6.033239e+00</td>\n",
       "      <td>1.667983e+01</td>\n",
       "      <td>0.0</td>\n",
       "      <td>0.0</td>\n",
       "      <td>4.354624e+01</td>\n",
       "      <td>2.149153e+01</td>\n",
       "      <td>3.383308e+01</td>\n",
       "      <td>2.022716e+00</td>\n",
       "      <td>4.205489e+01</td>\n",
       "    </tr>\n",
       "    <tr>\n",
       "      <th>min</th>\n",
       "      <td>2008.0</td>\n",
       "      <td>1.000000e+00</td>\n",
       "      <td>1.000000e+00</td>\n",
       "      <td>1.000000e+00</td>\n",
       "      <td>1.000000e+00</td>\n",
       "      <td>0.000000e+00</td>\n",
       "      <td>1.000000e+00</td>\n",
       "      <td>0.000000e+00</td>\n",
       "      <td>1.000000e+00</td>\n",
       "      <td>1.400000e+01</td>\n",
       "      <td>-2.100000e+01</td>\n",
       "      <td>0.000000e+00</td>\n",
       "      <td>1.500000e+01</td>\n",
       "      <td>6.000000e+00</td>\n",
       "      <td>1.100000e+01</td>\n",
       "      <td>0.000000e+00</td>\n",
       "      <td>0.000000e+00</td>\n",
       "      <td>0.0</td>\n",
       "      <td>0.0</td>\n",
       "      <td>0.000000e+00</td>\n",
       "      <td>0.000000e+00</td>\n",
       "      <td>0.000000e+00</td>\n",
       "      <td>0.000000e+00</td>\n",
       "      <td>0.000000e+00</td>\n",
       "    </tr>\n",
       "    <tr>\n",
       "      <th>25%</th>\n",
       "      <td>2008.0</td>\n",
       "      <td>3.000000e+00</td>\n",
       "      <td>8.000000e+00</td>\n",
       "      <td>2.000000e+00</td>\n",
       "      <td>1.232000e+03</td>\n",
       "      <td>1.150000e+03</td>\n",
       "      <td>1.326000e+03</td>\n",
       "      <td>1.340000e+03</td>\n",
       "      <td>6.370000e+02</td>\n",
       "      <td>8.300000e+01</td>\n",
       "      <td>8.000000e+01</td>\n",
       "      <td>5.800000e+01</td>\n",
       "      <td>2.600000e+01</td>\n",
       "      <td>2.400000e+01</td>\n",
       "      <td>3.340000e+02</td>\n",
       "      <td>4.000000e+00</td>\n",
       "      <td>1.100000e+01</td>\n",
       "      <td>0.0</td>\n",
       "      <td>0.0</td>\n",
       "      <td>0.000000e+00</td>\n",
       "      <td>0.000000e+00</td>\n",
       "      <td>0.000000e+00</td>\n",
       "      <td>0.000000e+00</td>\n",
       "      <td>0.000000e+00</td>\n",
       "    </tr>\n",
       "    <tr>\n",
       "      <th>50%</th>\n",
       "      <td>2008.0</td>\n",
       "      <td>6.000000e+00</td>\n",
       "      <td>1.600000e+01</td>\n",
       "      <td>4.000000e+00</td>\n",
       "      <td>1.618000e+03</td>\n",
       "      <td>1.529000e+03</td>\n",
       "      <td>1.737000e+03</td>\n",
       "      <td>1.722000e+03</td>\n",
       "      <td>1.589000e+03</td>\n",
       "      <td>1.180000e+02</td>\n",
       "      <td>1.150000e+02</td>\n",
       "      <td>9.000000e+01</td>\n",
       "      <td>4.300000e+01</td>\n",
       "      <td>4.100000e+01</td>\n",
       "      <td>5.950000e+02</td>\n",
       "      <td>6.000000e+00</td>\n",
       "      <td>1.600000e+01</td>\n",
       "      <td>0.0</td>\n",
       "      <td>0.0</td>\n",
       "      <td>2.000000e+00</td>\n",
       "      <td>0.000000e+00</td>\n",
       "      <td>2.000000e+00</td>\n",
       "      <td>0.000000e+00</td>\n",
       "      <td>8.000000e+00</td>\n",
       "    </tr>\n",
       "    <tr>\n",
       "      <th>75%</th>\n",
       "      <td>2008.0</td>\n",
       "      <td>9.000000e+00</td>\n",
       "      <td>2.300000e+01</td>\n",
       "      <td>6.000000e+00</td>\n",
       "      <td>1.924000e+03</td>\n",
       "      <td>1.830000e+03</td>\n",
       "      <td>2.048000e+03</td>\n",
       "      <td>2.022000e+03</td>\n",
       "      <td>3.676000e+03</td>\n",
       "      <td>1.670000e+02</td>\n",
       "      <td>1.610000e+02</td>\n",
       "      <td>1.360000e+02</td>\n",
       "      <td>7.900000e+01</td>\n",
       "      <td>7.500000e+01</td>\n",
       "      <td>9.720000e+02</td>\n",
       "      <td>8.000000e+00</td>\n",
       "      <td>2.400000e+01</td>\n",
       "      <td>0.0</td>\n",
       "      <td>0.0</td>\n",
       "      <td>2.100000e+01</td>\n",
       "      <td>0.000000e+00</td>\n",
       "      <td>1.500000e+01</td>\n",
       "      <td>0.000000e+00</td>\n",
       "      <td>3.300000e+01</td>\n",
       "    </tr>\n",
       "    <tr>\n",
       "      <th>max</th>\n",
       "      <td>2008.0</td>\n",
       "      <td>1.200000e+01</td>\n",
       "      <td>3.100000e+01</td>\n",
       "      <td>7.000000e+00</td>\n",
       "      <td>2.400000e+03</td>\n",
       "      <td>2.359000e+03</td>\n",
       "      <td>2.400000e+03</td>\n",
       "      <td>2.359000e+03</td>\n",
       "      <td>9.741000e+03</td>\n",
       "      <td>1.114000e+03</td>\n",
       "      <td>6.600000e+02</td>\n",
       "      <td>1.091000e+03</td>\n",
       "      <td>2.461000e+03</td>\n",
       "      <td>2.467000e+03</td>\n",
       "      <td>4.962000e+03</td>\n",
       "      <td>2.400000e+02</td>\n",
       "      <td>4.220000e+02</td>\n",
       "      <td>0.0</td>\n",
       "      <td>0.0</td>\n",
       "      <td>2.436000e+03</td>\n",
       "      <td>1.352000e+03</td>\n",
       "      <td>1.357000e+03</td>\n",
       "      <td>3.920000e+02</td>\n",
       "      <td>1.316000e+03</td>\n",
       "    </tr>\n",
       "  </tbody>\n",
       "</table>\n",
       "</div>\n",
       "      <button class=\"colab-df-convert\" onclick=\"convertToInteractive('df-6efe4835-c4b3-4cd4-83cb-fc8fdabdef06')\"\n",
       "              title=\"Convert this dataframe to an interactive table.\"\n",
       "              style=\"display:none;\">\n",
       "        \n",
       "  <svg xmlns=\"http://www.w3.org/2000/svg\" height=\"24px\"viewBox=\"0 0 24 24\"\n",
       "       width=\"24px\">\n",
       "    <path d=\"M0 0h24v24H0V0z\" fill=\"none\"/>\n",
       "    <path d=\"M18.56 5.44l.94 2.06.94-2.06 2.06-.94-2.06-.94-.94-2.06-.94 2.06-2.06.94zm-11 1L8.5 8.5l.94-2.06 2.06-.94-2.06-.94L8.5 2.5l-.94 2.06-2.06.94zm10 10l.94 2.06.94-2.06 2.06-.94-2.06-.94-.94-2.06-.94 2.06-2.06.94z\"/><path d=\"M17.41 7.96l-1.37-1.37c-.4-.4-.92-.59-1.43-.59-.52 0-1.04.2-1.43.59L10.3 9.45l-7.72 7.72c-.78.78-.78 2.05 0 2.83L4 21.41c.39.39.9.59 1.41.59.51 0 1.02-.2 1.41-.59l7.78-7.78 2.81-2.81c.8-.78.8-2.07 0-2.86zM5.41 20L4 18.59l7.72-7.72 1.47 1.35L5.41 20z\"/>\n",
       "  </svg>\n",
       "      </button>\n",
       "      \n",
       "  <style>\n",
       "    .colab-df-container {\n",
       "      display:flex;\n",
       "      flex-wrap:wrap;\n",
       "      gap: 12px;\n",
       "    }\n",
       "\n",
       "    .colab-df-convert {\n",
       "      background-color: #E8F0FE;\n",
       "      border: none;\n",
       "      border-radius: 50%;\n",
       "      cursor: pointer;\n",
       "      display: none;\n",
       "      fill: #1967D2;\n",
       "      height: 32px;\n",
       "      padding: 0 0 0 0;\n",
       "      width: 32px;\n",
       "    }\n",
       "\n",
       "    .colab-df-convert:hover {\n",
       "      background-color: #E2EBFA;\n",
       "      box-shadow: 0px 1px 2px rgba(60, 64, 67, 0.3), 0px 1px 3px 1px rgba(60, 64, 67, 0.15);\n",
       "      fill: #174EA6;\n",
       "    }\n",
       "\n",
       "    [theme=dark] .colab-df-convert {\n",
       "      background-color: #3B4455;\n",
       "      fill: #D2E3FC;\n",
       "    }\n",
       "\n",
       "    [theme=dark] .colab-df-convert:hover {\n",
       "      background-color: #434B5C;\n",
       "      box-shadow: 0px 1px 3px 1px rgba(0, 0, 0, 0.15);\n",
       "      filter: drop-shadow(0px 1px 2px rgba(0, 0, 0, 0.3));\n",
       "      fill: #FFFFFF;\n",
       "    }\n",
       "  </style>\n",
       "\n",
       "      <script>\n",
       "        const buttonEl =\n",
       "          document.querySelector('#df-6efe4835-c4b3-4cd4-83cb-fc8fdabdef06 button.colab-df-convert');\n",
       "        buttonEl.style.display =\n",
       "          google.colab.kernel.accessAllowed ? 'block' : 'none';\n",
       "\n",
       "        async function convertToInteractive(key) {\n",
       "          const element = document.querySelector('#df-6efe4835-c4b3-4cd4-83cb-fc8fdabdef06');\n",
       "          const dataTable =\n",
       "            await google.colab.kernel.invokeFunction('convertToInteractive',\n",
       "                                                     [key], {});\n",
       "          if (!dataTable) return;\n",
       "\n",
       "          const docLinkHtml = 'Like what you see? Visit the ' +\n",
       "            '<a target=\"_blank\" href=https://colab.research.google.com/notebooks/data_table.ipynb>data table notebook</a>'\n",
       "            + ' to learn more about interactive tables.';\n",
       "          element.innerHTML = '';\n",
       "          dataTable['output_type'] = 'display_data';\n",
       "          await google.colab.output.renderOutput(dataTable, element);\n",
       "          const docLink = document.createElement('div');\n",
       "          docLink.innerHTML = docLinkHtml;\n",
       "          element.appendChild(docLink);\n",
       "        }\n",
       "      </script>\n",
       "    </div>\n",
       "  </div>\n",
       "  "
      ],
      "text/plain": [
       "            Year         Month    DayofMonth     DayOfWeek       DepTime  \\\n",
       "count  1247486.0  1.247486e+06  1.247486e+06  1.247486e+06  1.247486e+06   \n",
       "mean      2008.0  6.065399e+00  1.572542e+01  3.980082e+00  1.558832e+03   \n",
       "std          0.0  3.508937e+00  8.793008e+00  1.993270e+00  4.543300e+02   \n",
       "min       2008.0  1.000000e+00  1.000000e+00  1.000000e+00  1.000000e+00   \n",
       "25%       2008.0  3.000000e+00  8.000000e+00  2.000000e+00  1.232000e+03   \n",
       "50%       2008.0  6.000000e+00  1.600000e+01  4.000000e+00  1.618000e+03   \n",
       "75%       2008.0  9.000000e+00  2.300000e+01  6.000000e+00  1.924000e+03   \n",
       "max       2008.0  1.200000e+01  3.100000e+01  7.000000e+00  2.400000e+03   \n",
       "\n",
       "         CRSDepTime       ArrTime    CRSArrTime     FlightNum  \\\n",
       "count  1.247486e+06  1.247486e+06  1.247486e+06  1.247486e+06   \n",
       "mean   1.487949e+03  1.616749e+03  1.652458e+03  2.276526e+03   \n",
       "std    4.211782e+02  5.839416e+02  4.617372e+02  1.997547e+03   \n",
       "min    0.000000e+00  1.000000e+00  0.000000e+00  1.000000e+00   \n",
       "25%    1.150000e+03  1.326000e+03  1.340000e+03  6.370000e+02   \n",
       "50%    1.529000e+03  1.737000e+03  1.722000e+03  1.589000e+03   \n",
       "75%    1.830000e+03  2.048000e+03  2.022000e+03  3.676000e+03   \n",
       "max    2.359000e+03  2.400000e+03  2.359000e+03  9.741000e+03   \n",
       "\n",
       "       ActualElapsedTime  CRSElapsedTime       AirTime      ArrDelay  \\\n",
       "count       1.247486e+06    1.247486e+06  1.247486e+06  1.247486e+06   \n",
       "mean        1.353779e+02    1.317641e+02  1.074203e+02  6.329104e+01   \n",
       "std         7.229636e+01    6.953201e+01  6.817454e+01  6.075380e+01   \n",
       "min         1.400000e+01   -2.100000e+01  0.000000e+00  1.500000e+01   \n",
       "25%         8.300000e+01    8.000000e+01  5.800000e+01  2.600000e+01   \n",
       "50%         1.180000e+02    1.150000e+02  9.000000e+01  4.300000e+01   \n",
       "75%         1.670000e+02    1.610000e+02  1.360000e+02  7.900000e+01   \n",
       "max         1.114000e+03    6.600000e+02  1.091000e+03  2.461000e+03   \n",
       "\n",
       "           DepDelay      Distance        TaxiIn       TaxiOut  Cancelled  \\\n",
       "count  1.247486e+06  1.247486e+06  1.247486e+06  1.247486e+06  1247486.0   \n",
       "mean   5.967721e+01  7.415867e+02  7.297232e+00  2.066033e+01        0.0   \n",
       "std    5.986881e+01  5.593643e+02  6.033239e+00  1.667983e+01        0.0   \n",
       "min    6.000000e+00  1.100000e+01  0.000000e+00  0.000000e+00        0.0   \n",
       "25%    2.400000e+01  3.340000e+02  4.000000e+00  1.100000e+01        0.0   \n",
       "50%    4.100000e+01  5.950000e+02  6.000000e+00  1.600000e+01        0.0   \n",
       "75%    7.500000e+01  9.720000e+02  8.000000e+00  2.400000e+01        0.0   \n",
       "max    2.467000e+03  4.962000e+03  2.400000e+02  4.220000e+02        0.0   \n",
       "\n",
       "        Diverted  CarrierDelay  WeatherDelay      NASDelay  SecurityDelay  \\\n",
       "count  1247486.0  1.247486e+06  1.247486e+06  1.247486e+06   1.247486e+06   \n",
       "mean         0.0  1.917943e+01  3.703355e+00  1.502162e+01   9.013728e-02   \n",
       "std          0.0  4.354624e+01  2.149153e+01  3.383308e+01   2.022716e+00   \n",
       "min          0.0  0.000000e+00  0.000000e+00  0.000000e+00   0.000000e+00   \n",
       "25%          0.0  0.000000e+00  0.000000e+00  0.000000e+00   0.000000e+00   \n",
       "50%          0.0  2.000000e+00  0.000000e+00  2.000000e+00   0.000000e+00   \n",
       "75%          0.0  2.100000e+01  0.000000e+00  1.500000e+01   0.000000e+00   \n",
       "max          0.0  2.436000e+03  1.352000e+03  1.357000e+03   3.920000e+02   \n",
       "\n",
       "       LateAircraftDelay  \n",
       "count       1.247486e+06  \n",
       "mean        2.529649e+01  \n",
       "std         4.205489e+01  \n",
       "min         0.000000e+00  \n",
       "25%         0.000000e+00  \n",
       "50%         8.000000e+00  \n",
       "75%         3.300000e+01  \n",
       "max         1.316000e+03  "
      ]
     },
     "execution_count": 14,
     "metadata": {},
     "output_type": "execute_result"
    }
   ],
   "source": [
    "df.describe()\n",
    "#2.6"
   ]
  },
  {
   "cell_type": "markdown",
   "metadata": {
    "id": "AYp5jtDYHRWG"
   },
   "source": [
    "## Data Visualization\n",
    "#3.1 -- #4.0"
   ]
  },
  {
   "cell_type": "code",
   "execution_count": 15,
   "metadata": {
    "colab": {
     "base_uri": "https://localhost:8080/",
     "height": 643
    },
    "id": "i06XMNRhG0e2",
    "outputId": "a9d91ef7-fbd9-4194-e136-021d38ab91ca"
   },
   "outputs": [
    {
     "data": {
      "text/plain": [
       "<matplotlib.axes._subplots.AxesSubplot at 0x7fc86a2ba250>"
      ]
     },
     "execution_count": 15,
     "metadata": {},
     "output_type": "execute_result"
    },
    {
     "data": {
      "image/png": "[encoded data removed]",
      "text/plain": [
       "<Figure size 864x648 with 2 Axes>"
      ]
     },
     "metadata": {
      "needs_background": "light"
     },
     "output_type": "display_data"
    }
   ],
   "source": [
    "#3.1 correlation matrix\n",
    "corrmat = df.corr()\n",
    "f, ax = plt.subplots(figsize=(12, 9))\n",
    "sns.heatmap(corrmat, vmax=.8, square=True);\n",
    "plt.show()"
   ]
  },
  {
   "cell_type": "markdown",
   "metadata": {
    "id": "3x2yfqvEHID5"
   },
   "source": [
    "### Through the correlation matrix we can see how some of the 29 variables in the dataset present multicollinearity, in other words, can be linearly predicted from the others. In order to have a better analysis and work with a lighter dataset, we are going to delete some of those unwanted variables and create new ones.\n",
    "\n",
    "### We can also make the following observations: \n",
    "\n",
    "#### 1. Only when Arrival Delay is longer than 15 minutes there's data about what caused the delay. Arrival Delay is the sum of CarrierDelay, WeatherDelay, NASDelay and LateAircraftDelay. In cases of cancelation or diversion there's no data related to delay causes. \n",
    "\n",
    "#### 2. More often than not, airports and carriers allocate a CRSElapsedTime higher than the actual time spent in the Taxi In + Taxi out + Airtime operations (Actual Elapsed Time). This is the reason why, when planes take off on time, landing usually takes place before the expected time! It also allows to absorb delay by late aircraft down the lane of chained flights. "
   ]
  },
  {
   "cell_type": "code",
   "execution_count": 16,
   "metadata": {
    "id": "srtj7HccHtqf"
   },
   "outputs": [],
   "source": [
    "\n",
    "#3.2 creating new variables and renaming \n",
    "df['DepDate'] = pd.to_datetime(df.Year*10000+df.Month*100+df.DayofMonth,format='%Y%m%d')\n",
    "\n",
    "#Status represents wether the flight was on time (0), slightly delayed (1), highly delayed (2), diverted (3), or cancelled (4)\n",
    "for dataset in df:\n",
    "    df.loc[df['ArrDelay'] <= 15, 'Status'] = 0\n",
    "    df.loc[df['ArrDelay'] >= 15, 'Status'] = 1\n",
    "    df.loc[df['ArrDelay'] >= 60, 'Status'] = 2\n",
    "    df.loc[df['Diverted'] == 1, 'Status'] = 3\n",
    "    df.loc[df['Cancelled'] == 1, 'Status'] = 4\n",
    "    \n",
    "    \n",
    "#Cancellation cause\n",
    "df.loc[df[\"CancellationCode\"] ==\"A\", 'CancellationCode'] = \"0\"\n",
    "df.loc[df[\"CancellationCode\"] ==\"B\", 'CancellationCode'] = \"1\"\n",
    "df.loc[df[\"CancellationCode\"] ==\"C\", 'CancellationCode'] = \"2\"\n",
    "\n",
    "# dropping the unwanted data   \n",
    "df = df.drop(\"Year\",1) #Converted to date\n",
    "df = df.drop(\"DayofMonth\",1) #Converted to date\n",
    "df = df.drop(\"DepTime\",1) #Of the departure data we only keep the expected \n",
    "df = df.drop(\"DepDelay\",1)\n",
    "df = df.drop(\"ArrTime\",1)\n",
    "df = df.drop(\"CRSArrTime\",1)\n",
    "df = df.drop(\"ActualElapsedTime\",1)\n",
    "df = df.drop(\"CRSElapsedTime\",1)\n",
    "df = df.drop(\"Diverted\",1)\n",
    "df = df.drop(\"Cancelled\",1)\n",
    "df = df.drop(\"Distance\",1)\n",
    "df = df.drop(\"FlightNum\",1)\n",
    "df = df.drop(\"TailNum\",1)\n"
   ]
  },
  {
   "cell_type": "code",
   "execution_count": 17,
   "metadata": {
    "colab": {
     "base_uri": "https://localhost:8080/",
     "height": 565
    },
    "id": "ThUA4zTbGJg8",
    "outputId": "47d09d77-fe04-48ed-bb8d-e89fd5d1ea57"
   },
   "outputs": [
    {
     "data": {
      "text/plain": [
       "<matplotlib.axes._subplots.AxesSubplot at 0x7fc86790bb10>"
      ]
     },
     "execution_count": 17,
     "metadata": {},
     "output_type": "execute_result"
    },
    {
     "data": {
      "text/plain": [
       "Text(0.5, 1.0, 'Status')"
      ]
     },
     "execution_count": 17,
     "metadata": {},
     "output_type": "execute_result"
    },
    {
     "data": {
      "text/plain": [
       "Text(0, 0.5, '')"
      ]
     },
     "execution_count": 17,
     "metadata": {},
     "output_type": "execute_result"
    },
    {
     "data": {
      "text/plain": [
       "<matplotlib.axes._subplots.AxesSubplot at 0x7fc86743d890>"
      ]
     },
     "execution_count": 17,
     "metadata": {},
     "output_type": "execute_result"
    },
    {
     "data": {
      "text/plain": [
       "Text(0.5, 1.0, 'Status')"
      ]
     },
     "execution_count": 17,
     "metadata": {},
     "output_type": "execute_result"
    },
    {
     "data": {
      "image/png": "[encoded data removed]",
      "text/plain": [
       "<Figure size 1440x576 with 2 Axes>"
      ]
     },
     "metadata": {
      "needs_background": "light"
     },
     "output_type": "display_data"
    },
    {
     "name": "stdout",
     "output_type": "stream",
     "text": [
      "Status represents wether the flight was on time (0), slightly delayed (1), highly delayed (2), diverted (3), or cancelled (4)\n"
     ]
    }
   ],
   "source": [
    "#3.3\n",
    "f,ax=plt.subplots(1,2,figsize=(20,8))\n",
    "df['Status'].value_counts().plot.pie(explode=[0.05,0.05],autopct='%1.1f%%',ax=ax[0],shadow=True)\n",
    "ax[0].set_title('Status')\n",
    "ax[0].set_ylabel('')\n",
    "sns.countplot('Status',order = df['Status'].value_counts().index, data=df,ax=ax[1])\n",
    "ax[1].set_title('Status')\n",
    "plt.show()\n",
    "\n",
    "print('Status represents wether the flight was on time (0), slightly delayed (1), highly delayed (2), diverted (3), or cancelled (4)')"
   ]
  },
  {
   "cell_type": "code",
   "execution_count": 18,
   "metadata": {
    "colab": {
     "base_uri": "https://localhost:8080/",
     "height": 296
    },
    "id": "8sekMJFQGxuC",
    "outputId": "837df07e-1329-4395-f6b6-001eac93f979"
   },
   "outputs": [
    {
     "data": {
      "text/plain": [
       "<matplotlib.axes._subplots.AxesSubplot at 0x7fc8673b2550>"
      ]
     },
     "execution_count": 18,
     "metadata": {},
     "output_type": "execute_result"
    },
    {
     "data": {
      "image/png": "[encoded data removed]",
      "text/plain": [
       "<Figure size 432x288 with 1 Axes>"
      ]
     },
     "metadata": {
      "needs_background": "light"
     },
     "output_type": "display_data"
    }
   ],
   "source": [
    "#3.4\n",
    "Delayedflights = df[(df.Status >= 1) &(df.Status < 3)]\n",
    "sns.distplot(Delayedflights['ArrDelay'])\n",
    "plt.show()"
   ]
  },
  {
   "cell_type": "code",
   "execution_count": 19,
   "metadata": {
    "colab": {
     "base_uri": "https://localhost:8080/"
    },
    "id": "rPZkfYbIGb4g",
    "outputId": "d9ac4eb6-1d5c-4110-e0bf-ef7ebfc7cf8e"
   },
   "outputs": [
    {
     "name": "stdout",
     "output_type": "stream",
     "text": [
      "Skewness: 4.059888\n",
      "Kurtosis: 40.382752\n"
     ]
    }
   ],
   "source": [
    "#3.5 skewness and kurtosis\n",
    "print(\"Skewness: %f\" % Delayedflights['ArrDelay'].skew())\n",
    "print(\"Kurtosis: %f\" % Delayedflights['ArrDelay'].kurt())\n"
   ]
  },
  {
   "cell_type": "markdown",
   "metadata": {
    "id": "2BcI8NxnMzQV"
   },
   "source": [
    "\n",
    "### It can be seen on the histogram and by the skewness and kurtosis indexes, that delays are mostly located on the left side of the graph, with a long tail to the right. The majority of delays are short, and the longer delays, while unusual, are more heavy loaded in time. "
   ]
  },
  {
   "cell_type": "code",
   "execution_count": null,
   "metadata": {
    "colab": {
     "base_uri": "https://localhost:8080/",
     "height": 548
    },
    "id": "XHyFW_5UMktU",
    "outputId": "3c2c5fe2-9c03-47fd-a621-357e4514d5c6"
   },
   "outputs": [
    {
     "data": {
      "text/plain": [
       "<matplotlib.axes._subplots.AxesSubplot at 0x7f338e2f6cd0>"
      ]
     },
     "execution_count": 20,
     "metadata": {},
     "output_type": "execute_result"
    },
    {
     "data": {
      "text/plain": [
       "Text(0.5, 1.0, 'Average delay by month')"
      ]
     },
     "execution_count": 20,
     "metadata": {},
     "output_type": "execute_result"
    },
    {
     "data": {
      "text/plain": [
       "<matplotlib.axes._subplots.AxesSubplot at 0x7f338e2bbb50>"
      ]
     },
     "execution_count": 20,
     "metadata": {},
     "output_type": "execute_result"
    },
    {
     "data": {
      "text/plain": [
       "Text(0.5, 1.0, 'Number of minutes delayed by month')"
      ]
     },
     "execution_count": 20,
     "metadata": {},
     "output_type": "execute_result"
    },
    {
     "data": {
      "image/png": "[encoded data removed]",
      "text/plain": [
       "<Figure size 1440x576 with 2 Axes>"
      ]
     },
     "metadata": {
      "needs_background": "light"
     },
     "output_type": "display_data"
    }
   ],
   "source": [
    "#3.6\n",
    "f,ax=plt.subplots(1,2,figsize=(20,8))\n",
    "Delayedflights[['Month','ArrDelay']].groupby(['Month']).mean().plot(ax=ax[0])\n",
    "ax[0].set_title('Average delay by month')\n",
    "Delayedflights[['Month','ArrDelay']].groupby(['Month']).sum().plot(ax=ax[1])\n",
    "ax[1].set_title('Number of minutes delayed by month')\n",
    "plt.show()"
   ]
  },
  {
   "cell_type": "code",
   "execution_count": null,
   "metadata": {
    "colab": {
     "base_uri": "https://localhost:8080/",
     "height": 454
    },
    "id": "8K7GZRQjNJiH",
    "outputId": "fa3f8f5b-d4fd-458b-a16a-f33d41a15e4c"
   },
   "outputs": [
    {
     "data": {
      "text/plain": [
       "<seaborn.axisgrid.JointGrid at 0x7f7141b8c050>"
      ]
     },
     "execution_count": 93,
     "metadata": {},
     "output_type": "execute_result"
    },
    {
     "data": {
      "image/png": "[encoded data removed]",
      "text/plain": [
       "<Figure size 432x432 with 3 Axes>"
      ]
     },
     "metadata": {},
     "output_type": "display_data"
    }
   ],
   "source": [
    "#3.7\n",
    "sns.jointplot(x='CRSDepTime',y='ArrDelay',data=Delayedflights,kind='reg', color='b',fit_reg = True)\n",
    "plt.show()"
   ]
  },
  {
   "cell_type": "markdown",
   "metadata": {
    "id": "VrKmyMfxNKKf"
   },
   "source": [
    "### Delays focused on February, June and December, with a peak on average delays on July 2008.\n",
    "### Regarding the time of the day the take off was programmed, it can be seen in the higher part of the scatterplot how the delays are concentrated in an hourly manner, focused on the hour. As the day goes on, there are more and more delays, but as it's shown in the center of the scatterplot, the delayed flights get divided into two groups: one with longer delays and other with shorter. One likely interpretation is that the delays generated by previous flights either increase or decrease in each following trip. "
   ]
  },
  {
   "cell_type": "code",
   "execution_count": 20,
   "metadata": {
    "colab": {
     "base_uri": "https://localhost:8080/",
     "height": 620
    },
    "id": "nvt2ubI4OaHx",
    "outputId": "964cf8d9-7625-4594-854c-f9141b1bf8fb"
   },
   "outputs": [
    {
     "data": {
      "image/png": "[encoded data removed]",
      "text/plain": [
       "<Figure size 864x648 with 2 Axes>"
      ]
     },
     "metadata": {
      "needs_background": "light"
     },
     "output_type": "display_data"
    }
   ],
   "source": [
    "#3.8\n",
    "delcorrmat = Delayedflights.corr()\n",
    "\n",
    "k = 10 #number of variables for heatmap\n",
    "f, ax = plt.subplots(figsize=(12, 9))\n",
    "cols = delcorrmat.nlargest(k, 'ArrDelay')['ArrDelay'].index\n",
    "cm = np.corrcoef(Delayedflights[cols].values.T)\n",
    "sns.set(font_scale=1.25)\n",
    "hm = sns.heatmap(cm, cbar=True, annot=True, square=True, fmt='.2f', annot_kws={'size': 15}, yticklabels=cols.values, xticklabels=cols.values)\n",
    "plt.show()"
   ]
  },
  {
   "cell_type": "code",
   "execution_count": 21,
   "metadata": {
    "colab": {
     "base_uri": "https://localhost:8080/",
     "height": 355
    },
    "id": "p1POBr2MOapO",
    "outputId": "e000c01a-dd62-4e36-eeaa-d690d9f8ebec"
   },
   "outputs": [
    {
     "data": {
      "text/plain": [
       "<matplotlib.legend.Legend at 0x7fc86727d890>"
      ]
     },
     "execution_count": 21,
     "metadata": {},
     "output_type": "execute_result"
    },
    {
     "data": {
      "image/png": "[encoded data removed]",
      "text/plain": [
       "<Figure size 432x288 with 1 Axes>"
      ]
     },
     "metadata": {},
     "output_type": "display_data"
    }
   ],
   "source": [
    "#3.9\n",
    "df2 = Delayedflights.filter(['Month','CarrierDelay','WeatherDelay','NASDelay','SecurityDelay','LateAircraftDelay'], axis=1)\n",
    "df2 = df2.groupby('Month')['LateAircraftDelay','CarrierDelay','WeatherDelay','NASDelay','SecurityDelay'].sum().plot()\n",
    "df2.legend(loc='upper center', bbox_to_anchor=(0.5, 1.25), ncol=3, fancybox=True, shadow=True)\n",
    "plt.show()"
   ]
  },
  {
   "cell_type": "markdown",
   "metadata": {
    "id": "Hqrz3Z0POr4r"
   },
   "source": [
    "#### The correlation matrix identifies three main variables for delays: Late Aircraft Delay, Carrier Delay and NAS Delay. The graph corroborates this assumption, showing how those three variables create most of delays during the year."
   ]
  },
  {
   "cell_type": "code",
   "execution_count": 22,
   "metadata": {
    "colab": {
     "base_uri": "https://localhost:8080/",
     "height": 918
    },
    "id": "XkBIQYEMOmS0",
    "outputId": "9c47dfa0-ae7f-4086-9158-55d13875a9de"
   },
   "outputs": [
    {
     "data": {
      "text/plain": [
       "<seaborn.axisgrid.PairGrid at 0x7fc8657cfc90>"
      ]
     },
     "execution_count": 22,
     "metadata": {},
     "output_type": "execute_result"
    },
    {
     "data": {
      "image/png": "[encoded data removed]",
      "text/plain": [
       "<Figure size 900x900 with 30 Axes>"
      ]
     },
     "metadata": {},
     "output_type": "display_data"
    }
   ],
   "source": [
    "#3.10 scatterplot\n",
    "sns.set()\n",
    "cols = ['ArrDelay', 'CarrierDelay', 'LateAircraftDelay', 'NASDelay', 'WeatherDelay']\n",
    "sns.pairplot(Delayedflights[cols], size = 2.5)\n",
    "plt.show()"
   ]
  },
  {
   "cell_type": "markdown",
   "metadata": {
    "id": "Ds-XUVptPU3s"
   },
   "source": [
    "## Conclusion\n",
    "##### Late Aircraft Delay seems to be the most important variable, not only due to its longer wait periods, but it's affected by the others due to the ripple effect and delay propagation. Its distribution is almost parallel to NAS Delay, and seems to be the compounded effect of the other delays minus the delay reduction from the alloted Elapsed time > Actual Elapsed Time in the flight operations.\n",
    "##### However, analyzing the scatterplot, it doesn't seem to be a significant correlation between the types of delay themselves."
   ]
  },
  {
   "cell_type": "markdown",
   "metadata": {
    "id": "BLfnTLwSPFL7"
   },
   "source": [
    "# Creating the Data Pipeline\n",
    "#4.1 -- #5.0"
   ]
  },
  {
   "cell_type": "code",
   "execution_count": 23,
   "metadata": {
    "colab": {
     "base_uri": "https://localhost:8080/",
     "height": 583
    },
    "id": "HX4dQWrpdXhb",
    "outputId": "6efec298-d32d-4e47-cfc0-9c397bbee0bf"
   },
   "outputs": [
    {
     "data": {
      "text/html": [
       "\n",
       "  <div id=\"df-a4f30418-2384-4628-a22c-3c5511791f8e\">\n",
       "    <div class=\"colab-df-container\">\n",
       "      <div>\n",
       "<style scoped>\n",
       "    .dataframe tbody tr th:only-of-type {\n",
       "        vertical-align: middle;\n",
       "    }\n",
       "\n",
       "    .dataframe tbody tr th {\n",
       "        vertical-align: top;\n",
       "    }\n",
       "\n",
       "    .dataframe thead th {\n",
       "        text-align: right;\n",
       "    }\n",
       "</style>\n",
       "<table border=\"1\" class=\"dataframe\">\n",
       "  <thead>\n",
       "    <tr style=\"text-align: right;\">\n",
       "      <th></th>\n",
       "      <th>Month</th>\n",
       "      <th>DayOfWeek</th>\n",
       "      <th>CRSDepTime</th>\n",
       "      <th>UniqueCarrier</th>\n",
       "      <th>AirTime</th>\n",
       "      <th>ArrDelay</th>\n",
       "      <th>Origin</th>\n",
       "      <th>Dest</th>\n",
       "      <th>TaxiIn</th>\n",
       "      <th>TaxiOut</th>\n",
       "      <th>CancellationCode</th>\n",
       "      <th>CarrierDelay</th>\n",
       "      <th>WeatherDelay</th>\n",
       "      <th>NASDelay</th>\n",
       "      <th>SecurityDelay</th>\n",
       "      <th>LateAircraftDelay</th>\n",
       "    </tr>\n",
       "  </thead>\n",
       "  <tbody>\n",
       "    <tr>\n",
       "      <th>3</th>\n",
       "      <td>1</td>\n",
       "      <td>4</td>\n",
       "      <td>1755</td>\n",
       "      <td>WN</td>\n",
       "      <td>77.0</td>\n",
       "      <td>34.0</td>\n",
       "      <td>IND</td>\n",
       "      <td>BWI</td>\n",
       "      <td>3.0</td>\n",
       "      <td>10.0</td>\n",
       "      <td>N</td>\n",
       "      <td>2.0</td>\n",
       "      <td>0.0</td>\n",
       "      <td>0.0</td>\n",
       "      <td>0.0</td>\n",
       "      <td>32.0</td>\n",
       "    </tr>\n",
       "    <tr>\n",
       "      <th>5</th>\n",
       "      <td>1</td>\n",
       "      <td>4</td>\n",
       "      <td>1830</td>\n",
       "      <td>WN</td>\n",
       "      <td>230.0</td>\n",
       "      <td>57.0</td>\n",
       "      <td>IND</td>\n",
       "      <td>LAS</td>\n",
       "      <td>3.0</td>\n",
       "      <td>7.0</td>\n",
       "      <td>N</td>\n",
       "      <td>10.0</td>\n",
       "      <td>0.0</td>\n",
       "      <td>0.0</td>\n",
       "      <td>0.0</td>\n",
       "      <td>47.0</td>\n",
       "    </tr>\n",
       "    <tr>\n",
       "      <th>7</th>\n",
       "      <td>1</td>\n",
       "      <td>4</td>\n",
       "      <td>1510</td>\n",
       "      <td>WN</td>\n",
       "      <td>107.0</td>\n",
       "      <td>80.0</td>\n",
       "      <td>IND</td>\n",
       "      <td>MCO</td>\n",
       "      <td>6.0</td>\n",
       "      <td>8.0</td>\n",
       "      <td>N</td>\n",
       "      <td>8.0</td>\n",
       "      <td>0.0</td>\n",
       "      <td>0.0</td>\n",
       "      <td>0.0</td>\n",
       "      <td>72.0</td>\n",
       "    </tr>\n",
       "    <tr>\n",
       "      <th>9</th>\n",
       "      <td>1</td>\n",
       "      <td>4</td>\n",
       "      <td>1425</td>\n",
       "      <td>WN</td>\n",
       "      <td>213.0</td>\n",
       "      <td>15.0</td>\n",
       "      <td>IND</td>\n",
       "      <td>PHX</td>\n",
       "      <td>7.0</td>\n",
       "      <td>8.0</td>\n",
       "      <td>N</td>\n",
       "      <td>3.0</td>\n",
       "      <td>0.0</td>\n",
       "      <td>0.0</td>\n",
       "      <td>0.0</td>\n",
       "      <td>12.0</td>\n",
       "    </tr>\n",
       "    <tr>\n",
       "      <th>11</th>\n",
       "      <td>1</td>\n",
       "      <td>4</td>\n",
       "      <td>1255</td>\n",
       "      <td>WN</td>\n",
       "      <td>110.0</td>\n",
       "      <td>16.0</td>\n",
       "      <td>IND</td>\n",
       "      <td>TPA</td>\n",
       "      <td>4.0</td>\n",
       "      <td>9.0</td>\n",
       "      <td>N</td>\n",
       "      <td>0.0</td>\n",
       "      <td>0.0</td>\n",
       "      <td>0.0</td>\n",
       "      <td>0.0</td>\n",
       "      <td>16.0</td>\n",
       "    </tr>\n",
       "    <tr>\n",
       "      <th>12</th>\n",
       "      <td>1</td>\n",
       "      <td>4</td>\n",
       "      <td>1325</td>\n",
       "      <td>WN</td>\n",
       "      <td>49.0</td>\n",
       "      <td>37.0</td>\n",
       "      <td>ISP</td>\n",
       "      <td>BWI</td>\n",
       "      <td>2.0</td>\n",
       "      <td>5.0</td>\n",
       "      <td>N</td>\n",
       "      <td>12.0</td>\n",
       "      <td>0.0</td>\n",
       "      <td>0.0</td>\n",
       "      <td>0.0</td>\n",
       "      <td>25.0</td>\n",
       "    </tr>\n",
       "    <tr>\n",
       "      <th>13</th>\n",
       "      <td>1</td>\n",
       "      <td>4</td>\n",
       "      <td>1625</td>\n",
       "      <td>WN</td>\n",
       "      <td>47.0</td>\n",
       "      <td>19.0</td>\n",
       "      <td>ISP</td>\n",
       "      <td>BWI</td>\n",
       "      <td>5.0</td>\n",
       "      <td>5.0</td>\n",
       "      <td>N</td>\n",
       "      <td>7.0</td>\n",
       "      <td>0.0</td>\n",
       "      <td>0.0</td>\n",
       "      <td>0.0</td>\n",
       "      <td>12.0</td>\n",
       "    </tr>\n",
       "    <tr>\n",
       "      <th>17</th>\n",
       "      <td>1</td>\n",
       "      <td>4</td>\n",
       "      <td>1255</td>\n",
       "      <td>WN</td>\n",
       "      <td>143.0</td>\n",
       "      <td>47.0</td>\n",
       "      <td>ISP</td>\n",
       "      <td>FLL</td>\n",
       "      <td>6.0</td>\n",
       "      <td>6.0</td>\n",
       "      <td>N</td>\n",
       "      <td>40.0</td>\n",
       "      <td>0.0</td>\n",
       "      <td>0.0</td>\n",
       "      <td>0.0</td>\n",
       "      <td>7.0</td>\n",
       "    </tr>\n",
       "    <tr>\n",
       "      <th>19</th>\n",
       "      <td>1</td>\n",
       "      <td>4</td>\n",
       "      <td>1945</td>\n",
       "      <td>WN</td>\n",
       "      <td>134.0</td>\n",
       "      <td>64.0</td>\n",
       "      <td>ISP</td>\n",
       "      <td>MCO</td>\n",
       "      <td>6.0</td>\n",
       "      <td>7.0</td>\n",
       "      <td>N</td>\n",
       "      <td>5.0</td>\n",
       "      <td>0.0</td>\n",
       "      <td>0.0</td>\n",
       "      <td>0.0</td>\n",
       "      <td>59.0</td>\n",
       "    </tr>\n",
       "    <tr>\n",
       "      <th>23</th>\n",
       "      <td>1</td>\n",
       "      <td>4</td>\n",
       "      <td>1650</td>\n",
       "      <td>WN</td>\n",
       "      <td>118.0</td>\n",
       "      <td>72.0</td>\n",
       "      <td>ISP</td>\n",
       "      <td>MDW</td>\n",
       "      <td>6.0</td>\n",
       "      <td>11.0</td>\n",
       "      <td>N</td>\n",
       "      <td>3.0</td>\n",
       "      <td>0.0</td>\n",
       "      <td>0.0</td>\n",
       "      <td>0.0</td>\n",
       "      <td>69.0</td>\n",
       "    </tr>\n",
       "  </tbody>\n",
       "</table>\n",
       "</div>\n",
       "      <button class=\"colab-df-convert\" onclick=\"convertToInteractive('df-a4f30418-2384-4628-a22c-3c5511791f8e')\"\n",
       "              title=\"Convert this dataframe to an interactive table.\"\n",
       "              style=\"display:none;\">\n",
       "        \n",
       "  <svg xmlns=\"http://www.w3.org/2000/svg\" height=\"24px\"viewBox=\"0 0 24 24\"\n",
       "       width=\"24px\">\n",
       "    <path d=\"M0 0h24v24H0V0z\" fill=\"none\"/>\n",
       "    <path d=\"M18.56 5.44l.94 2.06.94-2.06 2.06-.94-2.06-.94-.94-2.06-.94 2.06-2.06.94zm-11 1L8.5 8.5l.94-2.06 2.06-.94-2.06-.94L8.5 2.5l-.94 2.06-2.06.94zm10 10l.94 2.06.94-2.06 2.06-.94-2.06-.94-.94-2.06-.94 2.06-2.06.94z\"/><path d=\"M17.41 7.96l-1.37-1.37c-.4-.4-.92-.59-1.43-.59-.52 0-1.04.2-1.43.59L10.3 9.45l-7.72 7.72c-.78.78-.78 2.05 0 2.83L4 21.41c.39.39.9.59 1.41.59.51 0 1.02-.2 1.41-.59l7.78-7.78 2.81-2.81c.8-.78.8-2.07 0-2.86zM5.41 20L4 18.59l7.72-7.72 1.47 1.35L5.41 20z\"/>\n",
       "  </svg>\n",
       "      </button>\n",
       "      \n",
       "  <style>\n",
       "    .colab-df-container {\n",
       "      display:flex;\n",
       "      flex-wrap:wrap;\n",
       "      gap: 12px;\n",
       "    }\n",
       "\n",
       "    .colab-df-convert {\n",
       "      background-color: #E8F0FE;\n",
       "      border: none;\n",
       "      border-radius: 50%;\n",
       "      cursor: pointer;\n",
       "      display: none;\n",
       "      fill: #1967D2;\n",
       "      height: 32px;\n",
       "      padding: 0 0 0 0;\n",
       "      width: 32px;\n",
       "    }\n",
       "\n",
       "    .colab-df-convert:hover {\n",
       "      background-color: #E2EBFA;\n",
       "      box-shadow: 0px 1px 2px rgba(60, 64, 67, 0.3), 0px 1px 3px 1px rgba(60, 64, 67, 0.15);\n",
       "      fill: #174EA6;\n",
       "    }\n",
       "\n",
       "    [theme=dark] .colab-df-convert {\n",
       "      background-color: #3B4455;\n",
       "      fill: #D2E3FC;\n",
       "    }\n",
       "\n",
       "    [theme=dark] .colab-df-convert:hover {\n",
       "      background-color: #434B5C;\n",
       "      box-shadow: 0px 1px 3px 1px rgba(0, 0, 0, 0.15);\n",
       "      filter: drop-shadow(0px 1px 2px rgba(0, 0, 0, 0.3));\n",
       "      fill: #FFFFFF;\n",
       "    }\n",
       "  </style>\n",
       "\n",
       "      <script>\n",
       "        const buttonEl =\n",
       "          document.querySelector('#df-a4f30418-2384-4628-a22c-3c5511791f8e button.colab-df-convert');\n",
       "        buttonEl.style.display =\n",
       "          google.colab.kernel.accessAllowed ? 'block' : 'none';\n",
       "\n",
       "        async function convertToInteractive(key) {\n",
       "          const element = document.querySelector('#df-a4f30418-2384-4628-a22c-3c5511791f8e');\n",
       "          const dataTable =\n",
       "            await google.colab.kernel.invokeFunction('convertToInteractive',\n",
       "                                                     [key], {});\n",
       "          if (!dataTable) return;\n",
       "\n",
       "          const docLinkHtml = 'Like what you see? Visit the ' +\n",
       "            '<a target=\"_blank\" href=https://colab.research.google.com/notebooks/data_table.ipynb>data table notebook</a>'\n",
       "            + ' to learn more about interactive tables.';\n",
       "          element.innerHTML = '';\n",
       "          dataTable['output_type'] = 'display_data';\n",
       "          await google.colab.output.renderOutput(dataTable, element);\n",
       "          const docLink = document.createElement('div');\n",
       "          docLink.innerHTML = docLinkHtml;\n",
       "          element.appendChild(docLink);\n",
       "        }\n",
       "      </script>\n",
       "    </div>\n",
       "  </div>\n",
       "  "
      ],
      "text/plain": [
       "    Month  DayOfWeek  CRSDepTime UniqueCarrier  AirTime  ArrDelay Origin Dest  \\\n",
       "3       1          4        1755            WN     77.0      34.0    IND  BWI   \n",
       "5       1          4        1830            WN    230.0      57.0    IND  LAS   \n",
       "7       1          4        1510            WN    107.0      80.0    IND  MCO   \n",
       "9       1          4        1425            WN    213.0      15.0    IND  PHX   \n",
       "11      1          4        1255            WN    110.0      16.0    IND  TPA   \n",
       "12      1          4        1325            WN     49.0      37.0    ISP  BWI   \n",
       "13      1          4        1625            WN     47.0      19.0    ISP  BWI   \n",
       "17      1          4        1255            WN    143.0      47.0    ISP  FLL   \n",
       "19      1          4        1945            WN    134.0      64.0    ISP  MCO   \n",
       "23      1          4        1650            WN    118.0      72.0    ISP  MDW   \n",
       "\n",
       "    TaxiIn  TaxiOut CancellationCode  CarrierDelay  WeatherDelay  NASDelay  \\\n",
       "3      3.0     10.0                N           2.0           0.0       0.0   \n",
       "5      3.0      7.0                N          10.0           0.0       0.0   \n",
       "7      6.0      8.0                N           8.0           0.0       0.0   \n",
       "9      7.0      8.0                N           3.0           0.0       0.0   \n",
       "11     4.0      9.0                N           0.0           0.0       0.0   \n",
       "12     2.0      5.0                N          12.0           0.0       0.0   \n",
       "13     5.0      5.0                N           7.0           0.0       0.0   \n",
       "17     6.0      6.0                N          40.0           0.0       0.0   \n",
       "19     6.0      7.0                N           5.0           0.0       0.0   \n",
       "23     6.0     11.0                N           3.0           0.0       0.0   \n",
       "\n",
       "    SecurityDelay  LateAircraftDelay  \n",
       "3             0.0               32.0  \n",
       "5             0.0               47.0  \n",
       "7             0.0               72.0  \n",
       "9             0.0               12.0  \n",
       "11            0.0               16.0  \n",
       "12            0.0               25.0  \n",
       "13            0.0               12.0  \n",
       "17            0.0                7.0  \n",
       "19            0.0               59.0  \n",
       "23            0.0               69.0  "
      ]
     },
     "execution_count": 23,
     "metadata": {},
     "output_type": "execute_result"
    },
    {
     "name": "stdout",
     "output_type": "stream",
     "text": [
      "\n",
      "\n",
      "Target,y, values\n"
     ]
    },
    {
     "data": {
      "text/plain": [
       "3     1.0\n",
       "5     1.0\n",
       "7     2.0\n",
       "9     1.0\n",
       "11    1.0\n",
       "Name: Status, dtype: float64"
      ]
     },
     "execution_count": 23,
     "metadata": {},
     "output_type": "execute_result"
    }
   ],
   "source": [
    "#4.1 Divide data into predictors and target\n",
    "#     First 16 columns are predictors\n",
    "\n",
    "X = df.iloc[ :, 0:16]\n",
    "X.head(10)\n",
    "\n",
    "\n",
    "\n",
    "# 17th index or 18th column is target\n",
    "print(\"\\n\\nTarget,y, values\")\n",
    "y = df.iloc[ :, 17]  \n",
    "y.head()"
   ]
  },
  {
   "cell_type": "code",
   "execution_count": 24,
   "metadata": {
    "colab": {
     "base_uri": "https://localhost:8080/"
    },
    "id": "8ayWtDyGEdLu",
    "outputId": "fa77e45d-8d3a-49d0-d96a-287440415782"
   },
   "outputs": [
    {
     "data": {
      "text/plain": [
       "Index(['Month', 'DayOfWeek', 'CRSDepTime', 'UniqueCarrier', 'AirTime',\n",
       "       'ArrDelay', 'Origin', 'Dest', 'TaxiIn', 'TaxiOut', 'CancellationCode',\n",
       "       'CarrierDelay', 'WeatherDelay', 'NASDelay', 'SecurityDelay',\n",
       "       'LateAircraftDelay', 'DepDate', 'Status'],\n",
       "      dtype='object')"
      ]
     },
     "execution_count": 24,
     "metadata": {},
     "output_type": "execute_result"
    }
   ],
   "source": [
    "#4.2 All dataframe columns\n",
    "df.columns"
   ]
  },
  {
   "cell_type": "code",
   "execution_count": 25,
   "metadata": {
    "id": "glFIRHoCEg3W"
   },
   "outputs": [],
   "source": [
    "#4.3 Dividing columns into categorical and numerial columns\n",
    "cat_cols = ['UniqueCarrier','Origin','Dest','CancellationCode']\n",
    "\n",
    "num_cols = ['Month', 'DayOfWeek', 'CRSDepTime', 'AirTime', 'ArrDelay', 'TaxiIn', 'TaxiOut',\n",
    "       'CarrierDelay', 'WeatherDelay', 'NASDelay', 'SecurityDelay',\n",
    "       'LateAircraftDelay', 'Status']"
   ]
  },
  {
   "cell_type": "code",
   "execution_count": 26,
   "metadata": {
    "colab": {
     "base_uri": "https://localhost:8080/",
     "height": 270
    },
    "id": "lSmR3ybHecNc",
    "outputId": "46c464af-f206-4dec-c253-44ba11167e0c"
   },
   "outputs": [
    {
     "data": {
      "text/html": [
       "\n",
       "  <div id=\"df-b1ea3784-75bf-4289-a0f9-31ebe207de04\">\n",
       "    <div class=\"colab-df-container\">\n",
       "      <div>\n",
       "<style scoped>\n",
       "    .dataframe tbody tr th:only-of-type {\n",
       "        vertical-align: middle;\n",
       "    }\n",
       "\n",
       "    .dataframe tbody tr th {\n",
       "        vertical-align: top;\n",
       "    }\n",
       "\n",
       "    .dataframe thead th {\n",
       "        text-align: right;\n",
       "    }\n",
       "</style>\n",
       "<table border=\"1\" class=\"dataframe\">\n",
       "  <thead>\n",
       "    <tr style=\"text-align: right;\">\n",
       "      <th></th>\n",
       "      <th>Month</th>\n",
       "      <th>DayOfWeek</th>\n",
       "      <th>CRSDepTime</th>\n",
       "      <th>UniqueCarrier</th>\n",
       "      <th>AirTime</th>\n",
       "      <th>ArrDelay</th>\n",
       "      <th>Origin</th>\n",
       "      <th>Dest</th>\n",
       "      <th>TaxiIn</th>\n",
       "      <th>TaxiOut</th>\n",
       "      <th>CancellationCode</th>\n",
       "      <th>CarrierDelay</th>\n",
       "      <th>WeatherDelay</th>\n",
       "      <th>NASDelay</th>\n",
       "      <th>SecurityDelay</th>\n",
       "      <th>LateAircraftDelay</th>\n",
       "    </tr>\n",
       "  </thead>\n",
       "  <tbody>\n",
       "    <tr>\n",
       "      <th>3</th>\n",
       "      <td>1</td>\n",
       "      <td>4</td>\n",
       "      <td>1755</td>\n",
       "      <td>WN</td>\n",
       "      <td>77.0</td>\n",
       "      <td>34.0</td>\n",
       "      <td>IND</td>\n",
       "      <td>BWI</td>\n",
       "      <td>3.0</td>\n",
       "      <td>10.0</td>\n",
       "      <td>N</td>\n",
       "      <td>2.0</td>\n",
       "      <td>0.0</td>\n",
       "      <td>0.0</td>\n",
       "      <td>0.0</td>\n",
       "      <td>32.0</td>\n",
       "    </tr>\n",
       "    <tr>\n",
       "      <th>5</th>\n",
       "      <td>1</td>\n",
       "      <td>4</td>\n",
       "      <td>1830</td>\n",
       "      <td>WN</td>\n",
       "      <td>230.0</td>\n",
       "      <td>57.0</td>\n",
       "      <td>IND</td>\n",
       "      <td>LAS</td>\n",
       "      <td>3.0</td>\n",
       "      <td>7.0</td>\n",
       "      <td>N</td>\n",
       "      <td>10.0</td>\n",
       "      <td>0.0</td>\n",
       "      <td>0.0</td>\n",
       "      <td>0.0</td>\n",
       "      <td>47.0</td>\n",
       "    </tr>\n",
       "    <tr>\n",
       "      <th>7</th>\n",
       "      <td>1</td>\n",
       "      <td>4</td>\n",
       "      <td>1510</td>\n",
       "      <td>WN</td>\n",
       "      <td>107.0</td>\n",
       "      <td>80.0</td>\n",
       "      <td>IND</td>\n",
       "      <td>MCO</td>\n",
       "      <td>6.0</td>\n",
       "      <td>8.0</td>\n",
       "      <td>N</td>\n",
       "      <td>8.0</td>\n",
       "      <td>0.0</td>\n",
       "      <td>0.0</td>\n",
       "      <td>0.0</td>\n",
       "      <td>72.0</td>\n",
       "    </tr>\n",
       "    <tr>\n",
       "      <th>9</th>\n",
       "      <td>1</td>\n",
       "      <td>4</td>\n",
       "      <td>1425</td>\n",
       "      <td>WN</td>\n",
       "      <td>213.0</td>\n",
       "      <td>15.0</td>\n",
       "      <td>IND</td>\n",
       "      <td>PHX</td>\n",
       "      <td>7.0</td>\n",
       "      <td>8.0</td>\n",
       "      <td>N</td>\n",
       "      <td>3.0</td>\n",
       "      <td>0.0</td>\n",
       "      <td>0.0</td>\n",
       "      <td>0.0</td>\n",
       "      <td>12.0</td>\n",
       "    </tr>\n",
       "    <tr>\n",
       "      <th>11</th>\n",
       "      <td>1</td>\n",
       "      <td>4</td>\n",
       "      <td>1255</td>\n",
       "      <td>WN</td>\n",
       "      <td>110.0</td>\n",
       "      <td>16.0</td>\n",
       "      <td>IND</td>\n",
       "      <td>TPA</td>\n",
       "      <td>4.0</td>\n",
       "      <td>9.0</td>\n",
       "      <td>N</td>\n",
       "      <td>0.0</td>\n",
       "      <td>0.0</td>\n",
       "      <td>0.0</td>\n",
       "      <td>0.0</td>\n",
       "      <td>16.0</td>\n",
       "    </tr>\n",
       "  </tbody>\n",
       "</table>\n",
       "</div>\n",
       "      <button class=\"colab-df-convert\" onclick=\"convertToInteractive('df-b1ea3784-75bf-4289-a0f9-31ebe207de04')\"\n",
       "              title=\"Convert this dataframe to an interactive table.\"\n",
       "              style=\"display:none;\">\n",
       "        \n",
       "  <svg xmlns=\"http://www.w3.org/2000/svg\" height=\"24px\"viewBox=\"0 0 24 24\"\n",
       "       width=\"24px\">\n",
       "    <path d=\"M0 0h24v24H0V0z\" fill=\"none\"/>\n",
       "    <path d=\"M18.56 5.44l.94 2.06.94-2.06 2.06-.94-2.06-.94-.94-2.06-.94 2.06-2.06.94zm-11 1L8.5 8.5l.94-2.06 2.06-.94-2.06-.94L8.5 2.5l-.94 2.06-2.06.94zm10 10l.94 2.06.94-2.06 2.06-.94-2.06-.94-.94-2.06-.94 2.06-2.06.94z\"/><path d=\"M17.41 7.96l-1.37-1.37c-.4-.4-.92-.59-1.43-.59-.52 0-1.04.2-1.43.59L10.3 9.45l-7.72 7.72c-.78.78-.78 2.05 0 2.83L4 21.41c.39.39.9.59 1.41.59.51 0 1.02-.2 1.41-.59l7.78-7.78 2.81-2.81c.8-.78.8-2.07 0-2.86zM5.41 20L4 18.59l7.72-7.72 1.47 1.35L5.41 20z\"/>\n",
       "  </svg>\n",
       "      </button>\n",
       "      \n",
       "  <style>\n",
       "    .colab-df-container {\n",
       "      display:flex;\n",
       "      flex-wrap:wrap;\n",
       "      gap: 12px;\n",
       "    }\n",
       "\n",
       "    .colab-df-convert {\n",
       "      background-color: #E8F0FE;\n",
       "      border: none;\n",
       "      border-radius: 50%;\n",
       "      cursor: pointer;\n",
       "      display: none;\n",
       "      fill: #1967D2;\n",
       "      height: 32px;\n",
       "      padding: 0 0 0 0;\n",
       "      width: 32px;\n",
       "    }\n",
       "\n",
       "    .colab-df-convert:hover {\n",
       "      background-color: #E2EBFA;\n",
       "      box-shadow: 0px 1px 2px rgba(60, 64, 67, 0.3), 0px 1px 3px 1px rgba(60, 64, 67, 0.15);\n",
       "      fill: #174EA6;\n",
       "    }\n",
       "\n",
       "    [theme=dark] .colab-df-convert {\n",
       "      background-color: #3B4455;\n",
       "      fill: #D2E3FC;\n",
       "    }\n",
       "\n",
       "    [theme=dark] .colab-df-convert:hover {\n",
       "      background-color: #434B5C;\n",
       "      box-shadow: 0px 1px 3px 1px rgba(0, 0, 0, 0.15);\n",
       "      filter: drop-shadow(0px 1px 2px rgba(0, 0, 0, 0.3));\n",
       "      fill: #FFFFFF;\n",
       "    }\n",
       "  </style>\n",
       "\n",
       "      <script>\n",
       "        const buttonEl =\n",
       "          document.querySelector('#df-b1ea3784-75bf-4289-a0f9-31ebe207de04 button.colab-df-convert');\n",
       "        buttonEl.style.display =\n",
       "          google.colab.kernel.accessAllowed ? 'block' : 'none';\n",
       "\n",
       "        async function convertToInteractive(key) {\n",
       "          const element = document.querySelector('#df-b1ea3784-75bf-4289-a0f9-31ebe207de04');\n",
       "          const dataTable =\n",
       "            await google.colab.kernel.invokeFunction('convertToInteractive',\n",
       "                                                     [key], {});\n",
       "          if (!dataTable) return;\n",
       "\n",
       "          const docLinkHtml = 'Like what you see? Visit the ' +\n",
       "            '<a target=\"_blank\" href=https://colab.research.google.com/notebooks/data_table.ipynb>data table notebook</a>'\n",
       "            + ' to learn more about interactive tables.';\n",
       "          element.innerHTML = '';\n",
       "          dataTable['output_type'] = 'display_data';\n",
       "          await google.colab.output.renderOutput(dataTable, element);\n",
       "          const docLink = document.createElement('div');\n",
       "          docLink.innerHTML = docLinkHtml;\n",
       "          element.appendChild(docLink);\n",
       "        }\n",
       "      </script>\n",
       "    </div>\n",
       "  </div>\n",
       "  "
      ],
      "text/plain": [
       "    Month  DayOfWeek  CRSDepTime UniqueCarrier  AirTime  ArrDelay Origin Dest  \\\n",
       "3       1          4        1755            WN     77.0      34.0    IND  BWI   \n",
       "5       1          4        1830            WN    230.0      57.0    IND  LAS   \n",
       "7       1          4        1510            WN    107.0      80.0    IND  MCO   \n",
       "9       1          4        1425            WN    213.0      15.0    IND  PHX   \n",
       "11      1          4        1255            WN    110.0      16.0    IND  TPA   \n",
       "\n",
       "    TaxiIn  TaxiOut CancellationCode  CarrierDelay  WeatherDelay  NASDelay  \\\n",
       "3      3.0     10.0                N           2.0           0.0       0.0   \n",
       "5      3.0      7.0                N          10.0           0.0       0.0   \n",
       "7      6.0      8.0                N           8.0           0.0       0.0   \n",
       "9      7.0      8.0                N           3.0           0.0       0.0   \n",
       "11     4.0      9.0                N           0.0           0.0       0.0   \n",
       "\n",
       "    SecurityDelay  LateAircraftDelay  \n",
       "3             0.0               32.0  \n",
       "5             0.0               47.0  \n",
       "7             0.0               72.0  \n",
       "9             0.0               12.0  \n",
       "11            0.0               16.0  "
      ]
     },
     "execution_count": 26,
     "metadata": {},
     "output_type": "execute_result"
    }
   ],
   "source": [
    "#4.4\n",
    "X.head()"
   ]
  },
  {
   "cell_type": "code",
   "execution_count": 29,
   "metadata": {
    "id": "_bOY5iyyElYS"
   },
   "outputs": [],
   "source": [
    "#4.5 Applying label encoder on categorical variable\n",
    "from sklearn.preprocessing import LabelEncoder\n",
    "le = LabelEncoder()\n",
    "X[cat_cols] = X[cat_cols].apply(le.fit_transform)"
   ]
  },
  {
   "cell_type": "code",
   "execution_count": 30,
   "metadata": {
    "id": "cL3pMSU9WC3S"
   },
   "outputs": [],
   "source": [
    "#4.6 Create pipe for both numerical and categorical data to impute for missing values\n",
    "nc_pipe = Pipeline([ ('impute', SimpleImputer(strategy = 'median')), ('ss', ss()) ])\n",
    "cat_pipe = Pipeline([('impute', SimpleImputer(strategy = 'most_frequent')), ('ohe', OneHotEncoder())])"
   ]
  },
  {
   "cell_type": "code",
   "execution_count": 31,
   "metadata": {
    "colab": {
     "base_uri": "https://localhost:8080/"
    },
    "id": "KNBlvDvuWYVs",
    "outputId": "a39dc1d4-d16f-456c-8077-579b88e79603"
   },
   "outputs": [
    {
     "data": {
      "text/plain": [
       "array([[-1.4435712 ,  0.00999246,  0.63405707, ..., -0.04456253,\n",
       "         0.15939913, -0.74834648],\n",
       "       [-1.4435712 ,  0.00999246,  0.81212905, ..., -0.04456253,\n",
       "         0.516076  , -0.74834648],\n",
       "       [-1.4435712 ,  0.00999246,  0.05235528, ..., -0.04456253,\n",
       "         1.11053744,  1.33627941],\n",
       "       ...,\n",
       "       [ 1.69128235,  1.01336944, -0.6361897 , ..., -0.04456253,\n",
       "        -0.07838545, -0.74834648],\n",
       "       [ 1.69128235,  1.01336944, -2.10825138, ..., -0.04456253,\n",
       "        -0.60151152,  1.33627941],\n",
       "       [ 1.69128235,  1.01336944, -1.521801  , ..., -0.04456253,\n",
       "         1.27698665,  1.33627941]])"
      ]
     },
     "execution_count": 31,
     "metadata": {},
     "output_type": "execute_result"
    },
    {
     "data": {
      "text/plain": [
       "<1247486x624 sparse matrix of type '<class 'numpy.float64'>'\n",
       "\twith 4989944 stored elements in Compressed Sparse Row format>"
      ]
     },
     "execution_count": 31,
     "metadata": {},
     "output_type": "execute_result"
    }
   ],
   "source": [
    "#4.7 Test each pipe\n",
    "nc_pipe.fit_transform(df[num_cols])\n",
    "cat_pipe.fit_transform(df[cat_cols])"
   ]
  },
  {
   "cell_type": "code",
   "execution_count": 32,
   "metadata": {
    "id": "jUlxnrV4W_5E"
   },
   "outputs": [],
   "source": [
    "#4.8 Now put the two pipes within one column-transformer\n",
    "ct = ColumnTransformer([ \n",
    "                        ('nc_pipe',nc_pipe,num_cols), \n",
    "                        ('cat_pipe',cat_pipe,cat_cols)\n",
    "                        ])"
   ]
  },
  {
   "cell_type": "code",
   "execution_count": 33,
   "metadata": {
    "colab": {
     "base_uri": "https://localhost:8080/"
    },
    "id": "W5cRs4O_XGE1",
    "outputId": "75ac73a0-61fa-4680-e46c-c3b60a1bbf2a"
   },
   "outputs": [
    {
     "data": {
      "text/plain": [
       "<1247486x637 sparse matrix of type '<class 'numpy.float64'>'\n",
       "\twith 21207262 stored elements in Compressed Sparse Row format>"
      ]
     },
     "execution_count": 33,
     "metadata": {},
     "output_type": "execute_result"
    }
   ],
   "source": [
    "#4.9 Test this column transformer pipe\n",
    "ct.fit_transform(df)"
   ]
  },
  {
   "cell_type": "code",
   "execution_count": 34,
   "metadata": {
    "id": "DmrTwyUFXTe5"
   },
   "outputs": [],
   "source": [
    "#4.10 Final pipe to bring in the column-transformer followed by estimator\n",
    "\n",
    "pt = Pipeline([ \n",
    "                ('ct',ct), \n",
    "                ('dt',DecisionTreeClassifier())\n",
    "])"
   ]
  },
  {
   "cell_type": "code",
   "execution_count": 35,
   "metadata": {
    "colab": {
     "base_uri": "https://localhost:8080/"
    },
    "id": "cYATUbfuQzkP",
    "outputId": "d06f2dc6-9e32-4970-888b-101d5d3c71e7"
   },
   "outputs": [
    {
     "data": {
      "text/plain": [
       "(810865, 16)"
      ]
     },
     "execution_count": 35,
     "metadata": {},
     "output_type": "execute_result"
    },
    {
     "data": {
      "text/plain": [
       "(436621, 16)"
      ]
     },
     "execution_count": 35,
     "metadata": {},
     "output_type": "execute_result"
    },
    {
     "data": {
      "text/plain": [
       "(810865,)"
      ]
     },
     "execution_count": 35,
     "metadata": {},
     "output_type": "execute_result"
    },
    {
     "data": {
      "text/plain": [
       "(436621,)"
      ]
     },
     "execution_count": 35,
     "metadata": {},
     "output_type": "execute_result"
    }
   ],
   "source": [
    "#4.11 train test split\n",
    "from sklearn.model_selection import train_test_split\n",
    "X_train, X_test, y_train, y_test = train_test_split(X,\n",
    "                                                    y,\n",
    "                                                    test_size=0.35,\n",
    "                                                    shuffle = True,\n",
    "                                                    stratify = y\n",
    "                                                    )\n",
    "\n",
    "# 4.12\n",
    "X_train.shape        # (810865, 16)\n",
    "X_test.shape         # (436621, 16)\n",
    "y_train.shape        # (810865,)\n",
    "y_test.shape         # (436621,)"
   ]
  },
  {
   "cell_type": "markdown",
   "metadata": {
    "id": "mII5iMbwv80v"
   },
   "source": [
    "## Create a pipeline\n",
    "#5.1 -- #6.0\n",
    "Create a pipeline for data processing and modeling. We will then use `Grid Search` and `Random Search` to find best set of parameters for this pipeline."
   ]
  },
  {
   "cell_type": "code",
   "execution_count": 36,
   "metadata": {
    "id": "iIFGYEz9kV09"
   },
   "outputs": [],
   "source": [
    "\n",
    "################# Create pipeline #################\n",
    "#### Pipe using XGBoost\n",
    "\n",
    "\n",
    "# Pipeline steps\n",
    "# steps: List of (name, transform) tuples\n",
    "#       (implementing fit/transform) that are\n",
    "#       chained, in the order in which they\n",
    "#       are chained, with the last object an\n",
    "#       estimator.\n",
    "#      Format: [(name, transformer), (name, transformer)..(name, estimator)]\n",
    "\n",
    "steps_xg = [('sts', ss() ),\n",
    "            ('pca', PCA()),\n",
    "            ('xg',  XGBClassifier(silent = False,\n",
    "                                  n_jobs=3)        # Specify other parameters here\n",
    "            )\n",
    "            ]\n",
    "\n",
    "# 5.1  Instantiate Pipeline object\n",
    "\n",
    "pipe_xg = Pipeline(steps_xg)\n",
    "\n",
    "# 5.2 Another way to create pipeline:\n",
    "#     Not used below\n",
    "\n",
    "#pipe_xg1 = make_pipeline (\n",
    "#                          ss(),\n",
    "#                          PCA(),\n",
    "#                          XGBClassifier(silent = False,\n",
    "#                                        n_jobs=2)\n",
    "#                          )\n",
    "\n"
   ]
  },
  {
   "cell_type": "markdown",
   "metadata": {
    "id": "trkEIKJuhSgB"
   },
   "source": [
    "### Grid Search code to discover best pipeline parameters\n",
    "For a cmprehensive coverage of xgboost parameters and what they imply, please see [here](https://xgboost.readthedocs.io/en/latest/parameter.html) and also [here](https://www.analyticsvidhya.com/blog/2016/03/complete-guide-parameter-tuning-xgboost-with-codes-python/) ."
   ]
  },
  {
   "cell_type": "code",
   "execution_count": 37,
   "metadata": {
    "colab": {
     "base_uri": "https://localhost:8080/"
    },
    "id": "CoFIBpMJirX4",
    "outputId": "b333f2c7-f048-44a6-897a-bf264d07f241"
   },
   "outputs": [
    {
     "name": "stdout",
     "output_type": "stream",
     "text": [
      "\n",
      "\n",
      "--Which parameters can be tuned?--\n",
      "\n",
      "\n"
     ]
    },
    {
     "data": {
      "text/plain": [
       "{'memory': None,\n",
       " 'steps': [('sts', StandardScaler()),\n",
       "  ('pca', PCA()),\n",
       "  ('xg', XGBClassifier(n_jobs=3, silent=False))],\n",
       " 'verbose': False,\n",
       " 'sts': StandardScaler(),\n",
       " 'pca': PCA(),\n",
       " 'xg': XGBClassifier(n_jobs=3, silent=False),\n",
       " 'sts__copy': True,\n",
       " 'sts__with_mean': True,\n",
       " 'sts__with_std': True,\n",
       " 'pca__copy': True,\n",
       " 'pca__iterated_power': 'auto',\n",
       " 'pca__n_components': None,\n",
       " 'pca__random_state': None,\n",
       " 'pca__svd_solver': 'auto',\n",
       " 'pca__tol': 0.0,\n",
       " 'pca__whiten': False,\n",
       " 'xg__base_score': 0.5,\n",
       " 'xg__booster': 'gbtree',\n",
       " 'xg__colsample_bylevel': 1,\n",
       " 'xg__colsample_bynode': 1,\n",
       " 'xg__colsample_bytree': 1,\n",
       " 'xg__gamma': 0,\n",
       " 'xg__learning_rate': 0.1,\n",
       " 'xg__max_delta_step': 0,\n",
       " 'xg__max_depth': 3,\n",
       " 'xg__min_child_weight': 1,\n",
       " 'xg__missing': None,\n",
       " 'xg__n_estimators': 100,\n",
       " 'xg__n_jobs': 3,\n",
       " 'xg__nthread': None,\n",
       " 'xg__objective': 'binary:logistic',\n",
       " 'xg__random_state': 0,\n",
       " 'xg__reg_alpha': 0,\n",
       " 'xg__reg_lambda': 1,\n",
       " 'xg__scale_pos_weight': 1,\n",
       " 'xg__seed': None,\n",
       " 'xg__silent': False,\n",
       " 'xg__subsample': 1,\n",
       " 'xg__verbosity': 1}"
      ]
     },
     "execution_count": 37,
     "metadata": {},
     "output_type": "execute_result"
    }
   ],
   "source": [
    "##################### Grid Search #################\n",
    "\n",
    "# 5.3 What parameters in the pipe are available for tuning\n",
    "\n",
    "print(\"\\n\\n--Which parameters can be tuned?--\\n\\n\")\n",
    "pipe_xg.get_params()\n"
   ]
  },
  {
   "cell_type": "markdown",
   "metadata": {
    "id": "odx8BuObizC6"
   },
   "source": [
    "#### Define parameter space\n",
    "Now that we know which parameters can be tuned, specify parameter space"
   ]
  },
  {
   "cell_type": "code",
   "execution_count": 57,
   "metadata": {
    "id": "q0XKRG7Ni8hw"
   },
   "outputs": [],
   "source": [
    "# 5.4 Define dictionary\n",
    "parameters = {'xg__learning_rate':  [0.03, 0.05], # learning rate decides what percentage\n",
    "                                                  #  of error is to be fitted by\n",
    "                                                  #   by next boosted tree.\n",
    "                                                  # See this answer in stackoverflow:\n",
    "                                                  # https://stats.stackexchange.com/questions/354484/why-does-xgboost-have-a-learning-rate\n",
    "                                                  # Coefficients of boosted trees decide,\n",
    "                                                  #  in the overall model or scheme, how much importance\n",
    "                                                  #   each boosted tree shall have. Values of these\n",
    "                                                  #    Coefficients are calculated by modeling\n",
    "                                                  #     algorithm and unlike learning rate are\n",
    "                                                  #      not hyperparameters. These Coefficients\n",
    "                                                  #       get adjusted by l1 and l2 parameters\n",
    "              'xg__n_estimators':   [200,  300],  # Number of boosted trees to fit\n",
    "                                                  # l1 and l2 specifications will change\n",
    "                                                  # the values of coeff of boosted trees\n",
    "                                                  # but not their numbers\n",
    "\n",
    "              'xg__max_depth':      [4,6],\n",
    "              'pca__n_components' : [10,16],\n",
    "              'xg__booster': ['gbtree','gblinear']\n",
    "              }                               # Total: 2 * 2 * 2 * 2\n",
    "\n"
   ]
  },
  {
   "cell_type": "code",
   "execution_count": 68,
   "metadata": {
    "id": "9PFGpppRjS10"
   },
   "outputs": [],
   "source": [
    "# 5.4.1 Define revised dictionary\n",
    "#       This takes 3.5 minutes\n",
    "parameters = {'xg__learning_rate':  [0.03, 0.05], # learning rate decides what percentage\n",
    "                                                  #  of error is to be fitted by\n",
    "                                                  #   by next boosted tree.\n",
    "                                                  # See this answer in stackoverflow:\n",
    "                                                  # https://stats.stackexchange.com/questions/354484/why-does-xgboost-have-a-learning-rate\n",
    "                                                  # Coefficients of boosted trees decide,\n",
    "                                                  #  in the overall model or scheme, how much importance\n",
    "                                                  #   each boosted tree shall have. Values of these\n",
    "                                                  #    Coefficients are calculated by modeling\n",
    "                                                  #     algorithm and unlike learning rate are\n",
    "                                                  #      not hyperparameters. These Coefficients\n",
    "                                                  #       get adjusted by l1 and l2 parameters\n",
    "               'xg__max_depth':      [4,6],\n",
    " \n",
    "              'pca__n_components' : [6,11],\n",
    "               }                               # Total: 2 * 2 * 2 * 2\n"
   ]
  },
  {
   "cell_type": "markdown",
   "metadata": {
    "id": "F61mw8LfjWoZ"
   },
   "source": [
    "#### Instantiate GridSearchCV class"
   ]
  },
  {
   "cell_type": "code",
   "execution_count": 59,
   "metadata": {
    "id": "1Rt_qhtZjdg5"
   },
   "outputs": [],
   "source": [
    "# 5.5  Grid Search (16 * 2) iterations\n",
    "#    Create Grid Search object first with all necessary\n",
    "#    specifications. Note that data, X, as yet is not specified\n",
    "\n",
    "#    Data Leakage and pipelining:\n",
    "#    Pipeline avoids data leakage during GridSearch\n",
    "#    See this: https://towardsdatascience.com/a-simple-example-of-pipeline-in-machine-learning-with-scikit-learn-e726ffbb6976\n",
    "\n",
    "clf = GridSearchCV(pipe_xg,            # pipeline object\n",
    "                   parameters,         # possible parameters\n",
    "                   n_jobs = 2,         # USe parallel cpu threads\n",
    "                   cv =2 ,             # No of folds\n",
    "                   verbose =1,         # Higher the value, more the verbosity\n",
    "                   scoring = ['accuracy', 'roc_auc'],  # Metrics for performance\n",
    "                   refit = 'roc_auc'   # Refitting final model on what parameters?\n",
    "                                       # Those which maximise auc\n",
    "                   )"
   ]
  },
  {
   "cell_type": "code",
   "execution_count": null,
   "metadata": {
    "colab": {
     "base_uri": "https://localhost:8080/"
    },
    "id": "vEReBFVajjt9",
    "outputId": "25074daf-eef4-4c6c-c90d-e52b32f86462"
   },
   "outputs": [
    {
     "data": {
      "text/plain": [
       "507"
      ]
     },
     "execution_count": 185,
     "metadata": {},
     "output_type": "execute_result"
    }
   ],
   "source": [
    "## 5.6 Delete objects not needed\n",
    "#      We need X_train, y_train, X_test, y_test\n",
    "del X\n",
    "del df\n",
    "del y\n",
    "gc.collect()"
   ]
  },
  {
   "cell_type": "markdown",
   "metadata": {
    "id": "yGv237_IkVKf"
   },
   "source": [
    "#### Model fitting"
   ]
  },
  {
   "cell_type": "code",
   "execution_count": 60,
   "metadata": {
    "colab": {
     "base_uri": "https://localhost:8080/"
    },
    "id": "a5ahJflbkaR9",
    "outputId": "3cdabfc9-46ad-41b5-a60b-568718e26df3"
   },
   "outputs": [
    {
     "name": "stdout",
     "output_type": "stream",
     "text": [
      "\n",
      "\n",
      "--Takes time...---\n",
      "\n",
      "Fitting 2 folds for each of 8 candidates, totalling 16 fits\n"
     ]
    },
    {
     "data": {
      "text/plain": [
       "GridSearchCV(cv=2,\n",
       "             estimator=Pipeline(steps=[('sts', StandardScaler()),\n",
       "                                       ('pca', PCA()),\n",
       "                                       ('xg',\n",
       "                                        XGBClassifier(n_jobs=3,\n",
       "                                                      silent=False))]),\n",
       "             n_jobs=2,\n",
       "             param_grid={'pca__n_components': [16, 16],\n",
       "                         'xg__learning_rate': [0.03, 0.05],\n",
       "                         'xg__max_depth': [4, 6]},\n",
       "             refit='roc_auc', scoring=['accuracy', 'roc_auc'], verbose=1)"
      ]
     },
     "execution_count": 60,
     "metadata": {},
     "output_type": "execute_result"
    },
    {
     "name": "stdout",
     "output_type": "stream",
     "text": [
      "\n"
     ]
    },
    {
     "data": {
      "text/plain": [
       "32.4075097044309"
      ]
     },
     "execution_count": 60,
     "metadata": {},
     "output_type": "execute_result"
    }
   ],
   "source": [
    "# 5.7 Start fitting pipeline to data\n",
    "print(\"\\n\\n--Takes time...---\\n\")\n",
    "start = time.time()\n",
    "clf.fit(X_train, y_train)\n",
    "end = time.time()\n",
    "print()\n",
    "(end - start)/60               # 33 minutes"
   ]
  },
  {
   "cell_type": "code",
   "execution_count": 61,
   "metadata": {
    "colab": {
     "base_uri": "https://localhost:8080/",
     "height": 54
    },
    "id": "MijrupDcke8n",
    "outputId": "48abd903-a80a-40cf-fa6d-dc620b13b160"
   },
   "outputs": [
    {
     "data": {
      "application/vnd.google.colaboratory.intrinsic+json": {
       "type": "string"
      },
      "text/plain": [
       "'Best score: 0.999023985634043 '"
      ]
     },
     "execution_count": 61,
     "metadata": {},
     "output_type": "execute_result"
    },
    {
     "name": "stdout",
     "output_type": "stream",
     "text": [
      "\n"
     ]
    },
    {
     "data": {
      "application/vnd.google.colaboratory.intrinsic+json": {
       "type": "string"
      },
      "text/plain": [
       "\"Best parameter set {'pca__n_components': 16, 'xg__learning_rate': 0.05, 'xg__max_depth': 6}\""
      ]
     },
     "execution_count": 61,
     "metadata": {},
     "output_type": "execute_result"
    }
   ],
   "source": [
    "# 5.8\n",
    "f\"Best score: {clf.best_score_} \"            # 'Best score: 0.999023985634043'\n",
    "\n",
    "# 5.8.1\n",
    "print()\n",
    "f\"Best parameter set {clf.best_params_}\""
   ]
  },
  {
   "cell_type": "code",
   "execution_count": 62,
   "metadata": {
    "colab": {
     "base_uri": "https://localhost:8080/",
     "height": 688
    },
    "id": "v2LBCmV_b9wx",
    "outputId": "bccf8087-f82c-4abf-f039-cf910ea43f19"
   },
   "outputs": [
    {
     "name": "stdout",
     "output_type": "stream",
     "text": [
      "--Few predictions--\n",
      "\n"
     ]
    },
    {
     "data": {
      "text/plain": [
       "array([1., 1., 1., 1.])"
      ]
     },
     "execution_count": 62,
     "metadata": {},
     "output_type": "execute_result"
    },
    {
     "name": "stdout",
     "output_type": "stream",
     "text": [
      "\n",
      "\n",
      "--Accuracy Score--\n",
      "\n"
     ]
    },
    {
     "data": {
      "text/plain": [
       "98.41510142663775"
      ]
     },
     "execution_count": 62,
     "metadata": {},
     "output_type": "execute_result"
    },
    {
     "name": "stdout",
     "output_type": "stream",
     "text": [
      "\n",
      "\n",
      "--Confusion Matrix--\n",
      "\n"
     ]
    },
    {
     "data": {
      "text/plain": [
       "array([[276866,   3015],\n",
       "       [  3905, 152835]])"
      ]
     },
     "execution_count": 62,
     "metadata": {},
     "output_type": "execute_result"
    },
    {
     "name": "stdout",
     "output_type": "stream",
     "text": [
      "\n",
      "\n",
      "--F1 Score pos-label: 1--\n",
      "\n"
     ]
    },
    {
     "data": {
      "text/plain": [
       "0.9876572276563715"
      ]
     },
     "execution_count": 62,
     "metadata": {},
     "output_type": "execute_result"
    },
    {
     "name": "stdout",
     "output_type": "stream",
     "text": [
      "\n",
      "\n",
      "--F1 Score pos-label: 0--\n",
      "\n"
     ]
    },
    {
     "data": {
      "text/plain": [
       "0.9778623756358169"
      ]
     },
     "execution_count": 62,
     "metadata": {},
     "output_type": "execute_result"
    },
    {
     "name": "stdout",
     "output_type": "stream",
     "text": [
      "\n",
      "\n",
      "--ROC curve--\n",
      "\n"
     ]
    },
    {
     "data": {
      "image/png": "[encoded data removed]",
      "text/plain": [
       "<Figure size 432x288 with 1 Axes>"
      ]
     },
     "metadata": {},
     "output_type": "display_data"
    }
   ],
   "source": [
    "# 5.9 Make predictions using the best returned model\n",
    "y_pred = clf.predict(X_test)\n",
    "print(\"--Few predictions--\\n\")\n",
    "y_pred[:4]\n",
    "\n",
    "# 5.10 Accuracy score\n",
    "print(\"\\n\\n--Accuracy Score--\\n\")\n",
    "accuracy = accuracy_score(y_test, y_pred)\n",
    "accuracy * 100.0             # 'Accuracy: 98.41510142663775'\n",
    "\n",
    "# 5.11 Confusion matrix\n",
    "print(\"\\n\\n--Confusion Matrix--\\n\")\n",
    "confusion_matrix( y_test,y_pred)\n",
    "\n",
    "# 5.12 F1 score\n",
    "print(\"\\n\\n--F1 Score pos-label: 1--\\n\")\n",
    "f1_score(y_test,y_pred, pos_label = 1)      # 0.9876572276563715\n",
    "\n",
    "print(\"\\n\\n--F1 Score pos-label: 0--\\n\")\n",
    "f1_score(y_test,y_pred, pos_label = 2)      # 0.9778623756358169\n",
    "\n",
    "# 5.13 ROC curve and get AUC\n",
    "print(\"\\n\\n--ROC curve--\\n\")\n",
    "_=plot_roc_curve(clf, X_test, y_test)"
   ]
  },
  {
   "cell_type": "code",
   "execution_count": 63,
   "metadata": {
    "colab": {
     "base_uri": "https://localhost:8080/"
    },
    "id": "Y07_7ViYb-Ez",
    "outputId": "987db71a-b6b5-4744-c189-3783bb296187"
   },
   "outputs": [
    {
     "name": "stdout",
     "output_type": "stream",
     "text": [
      "\n",
      "\n",
      "--How many features--\n",
      "\n"
     ]
    },
    {
     "data": {
      "text/plain": [
       "(16,)"
      ]
     },
     "execution_count": 63,
     "metadata": {},
     "output_type": "execute_result"
    },
    {
     "name": "stdout",
     "output_type": "stream",
     "text": [
      "\n",
      "\n",
      "---Feature importances---\n",
      "\n"
     ]
    },
    {
     "data": {
      "text/plain": [
       "array([4.6736750e-01, 2.8067121e-01, 5.4248206e-02, 1.6756965e-02,\n",
       "       1.1538831e-03, 8.4075322e-03, 1.3871966e-02, 8.1716944e-03,\n",
       "       7.5882194e-03, 3.5235863e-03, 2.3656538e-02, 2.0608190e-02,\n",
       "       6.8587520e-05, 4.7580503e-02, 4.3537755e-02, 2.7876801e-03],\n",
       "      dtype=float32)"
      ]
     },
     "execution_count": 63,
     "metadata": {},
     "output_type": "execute_result"
    }
   ],
   "source": [
    "# 5.14 Get feature importances from GridSearchCV best fitted 'xg' model\n",
    "#     See stackoverflow: https://stackoverflow.com/q/48377296\n",
    "\n",
    "print(\"\\n\\n--How many features--\\n\")\n",
    "clf.best_estimator_.named_steps[\"xg\"].feature_importances_.shape\n",
    "\n",
    "# 5.14.1\n",
    "print(\"\\n\\n---Feature importances---\\n\")\n",
    "clf.best_estimator_.named_steps[\"xg\"].feature_importances_"
   ]
  },
  {
   "cell_type": "code",
   "execution_count": 64,
   "metadata": {
    "id": "Nst07HGzFQUv"
   },
   "outputs": [],
   "source": [
    "# 5.15 Store column names somewhere\n",
    "#     for use in feature importance\n",
    "\n",
    "colnames = X.columns.tolist()"
   ]
  },
  {
   "cell_type": "code",
   "execution_count": 65,
   "metadata": {
    "colab": {
     "base_uri": "https://localhost:8080/",
     "height": 551
    },
    "id": "UC3TEFeBb-Yl",
    "outputId": "53fe860f-44c0-424e-a91e-1d7374c577d2"
   },
   "outputs": [
    {
     "data": {
      "text/html": [
       "\n",
       "  <div id=\"df-7702b9f3-15bf-4ce8-b110-d66b6e92d32d\">\n",
       "    <div class=\"colab-df-container\">\n",
       "      <div>\n",
       "<style scoped>\n",
       "    .dataframe tbody tr th:only-of-type {\n",
       "        vertical-align: middle;\n",
       "    }\n",
       "\n",
       "    .dataframe tbody tr th {\n",
       "        vertical-align: top;\n",
       "    }\n",
       "\n",
       "    .dataframe thead th {\n",
       "        text-align: right;\n",
       "    }\n",
       "</style>\n",
       "<table border=\"1\" class=\"dataframe\">\n",
       "  <thead>\n",
       "    <tr style=\"text-align: right;\">\n",
       "      <th></th>\n",
       "      <th>imp</th>\n",
       "    </tr>\n",
       "  </thead>\n",
       "  <tbody>\n",
       "    <tr>\n",
       "      <th>WeatherDelay</th>\n",
       "      <td>0.000069</td>\n",
       "    </tr>\n",
       "    <tr>\n",
       "      <th>AirTime</th>\n",
       "      <td>0.001154</td>\n",
       "    </tr>\n",
       "    <tr>\n",
       "      <th>LateAircraftDelay</th>\n",
       "      <td>0.002788</td>\n",
       "    </tr>\n",
       "    <tr>\n",
       "      <th>TaxiOut</th>\n",
       "      <td>0.003524</td>\n",
       "    </tr>\n",
       "    <tr>\n",
       "      <th>TaxiIn</th>\n",
       "      <td>0.007588</td>\n",
       "    </tr>\n",
       "    <tr>\n",
       "      <th>Dest</th>\n",
       "      <td>0.008172</td>\n",
       "    </tr>\n",
       "    <tr>\n",
       "      <th>ArrDelay</th>\n",
       "      <td>0.008408</td>\n",
       "    </tr>\n",
       "    <tr>\n",
       "      <th>Origin</th>\n",
       "      <td>0.013872</td>\n",
       "    </tr>\n",
       "    <tr>\n",
       "      <th>UniqueCarrier</th>\n",
       "      <td>0.016757</td>\n",
       "    </tr>\n",
       "    <tr>\n",
       "      <th>CarrierDelay</th>\n",
       "      <td>0.020608</td>\n",
       "    </tr>\n",
       "    <tr>\n",
       "      <th>CancellationCode</th>\n",
       "      <td>0.023657</td>\n",
       "    </tr>\n",
       "    <tr>\n",
       "      <th>SecurityDelay</th>\n",
       "      <td>0.043538</td>\n",
       "    </tr>\n",
       "    <tr>\n",
       "      <th>NASDelay</th>\n",
       "      <td>0.047581</td>\n",
       "    </tr>\n",
       "    <tr>\n",
       "      <th>CRSDepTime</th>\n",
       "      <td>0.054248</td>\n",
       "    </tr>\n",
       "    <tr>\n",
       "      <th>DayOfWeek</th>\n",
       "      <td>0.280671</td>\n",
       "    </tr>\n",
       "    <tr>\n",
       "      <th>Month</th>\n",
       "      <td>0.467368</td>\n",
       "    </tr>\n",
       "  </tbody>\n",
       "</table>\n",
       "</div>\n",
       "      <button class=\"colab-df-convert\" onclick=\"convertToInteractive('df-7702b9f3-15bf-4ce8-b110-d66b6e92d32d')\"\n",
       "              title=\"Convert this dataframe to an interactive table.\"\n",
       "              style=\"display:none;\">\n",
       "        \n",
       "  <svg xmlns=\"http://www.w3.org/2000/svg\" height=\"24px\"viewBox=\"0 0 24 24\"\n",
       "       width=\"24px\">\n",
       "    <path d=\"M0 0h24v24H0V0z\" fill=\"none\"/>\n",
       "    <path d=\"M18.56 5.44l.94 2.06.94-2.06 2.06-.94-2.06-.94-.94-2.06-.94 2.06-2.06.94zm-11 1L8.5 8.5l.94-2.06 2.06-.94-2.06-.94L8.5 2.5l-.94 2.06-2.06.94zm10 10l.94 2.06.94-2.06 2.06-.94-2.06-.94-.94-2.06-.94 2.06-2.06.94z\"/><path d=\"M17.41 7.96l-1.37-1.37c-.4-.4-.92-.59-1.43-.59-.52 0-1.04.2-1.43.59L10.3 9.45l-7.72 7.72c-.78.78-.78 2.05 0 2.83L4 21.41c.39.39.9.59 1.41.59.51 0 1.02-.2 1.41-.59l7.78-7.78 2.81-2.81c.8-.78.8-2.07 0-2.86zM5.41 20L4 18.59l7.72-7.72 1.47 1.35L5.41 20z\"/>\n",
       "  </svg>\n",
       "      </button>\n",
       "      \n",
       "  <style>\n",
       "    .colab-df-container {\n",
       "      display:flex;\n",
       "      flex-wrap:wrap;\n",
       "      gap: 12px;\n",
       "    }\n",
       "\n",
       "    .colab-df-convert {\n",
       "      background-color: #E8F0FE;\n",
       "      border: none;\n",
       "      border-radius: 50%;\n",
       "      cursor: pointer;\n",
       "      display: none;\n",
       "      fill: #1967D2;\n",
       "      height: 32px;\n",
       "      padding: 0 0 0 0;\n",
       "      width: 32px;\n",
       "    }\n",
       "\n",
       "    .colab-df-convert:hover {\n",
       "      background-color: #E2EBFA;\n",
       "      box-shadow: 0px 1px 2px rgba(60, 64, 67, 0.3), 0px 1px 3px 1px rgba(60, 64, 67, 0.15);\n",
       "      fill: #174EA6;\n",
       "    }\n",
       "\n",
       "    [theme=dark] .colab-df-convert {\n",
       "      background-color: #3B4455;\n",
       "      fill: #D2E3FC;\n",
       "    }\n",
       "\n",
       "    [theme=dark] .colab-df-convert:hover {\n",
       "      background-color: #434B5C;\n",
       "      box-shadow: 0px 1px 3px 1px rgba(0, 0, 0, 0.15);\n",
       "      filter: drop-shadow(0px 1px 2px rgba(0, 0, 0, 0.3));\n",
       "      fill: #FFFFFF;\n",
       "    }\n",
       "  </style>\n",
       "\n",
       "      <script>\n",
       "        const buttonEl =\n",
       "          document.querySelector('#df-7702b9f3-15bf-4ce8-b110-d66b6e92d32d button.colab-df-convert');\n",
       "        buttonEl.style.display =\n",
       "          google.colab.kernel.accessAllowed ? 'block' : 'none';\n",
       "\n",
       "        async function convertToInteractive(key) {\n",
       "          const element = document.querySelector('#df-7702b9f3-15bf-4ce8-b110-d66b6e92d32d');\n",
       "          const dataTable =\n",
       "            await google.colab.kernel.invokeFunction('convertToInteractive',\n",
       "                                                     [key], {});\n",
       "          if (!dataTable) return;\n",
       "\n",
       "          const docLinkHtml = 'Like what you see? Visit the ' +\n",
       "            '<a target=\"_blank\" href=https://colab.research.google.com/notebooks/data_table.ipynb>data table notebook</a>'\n",
       "            + ' to learn more about interactive tables.';\n",
       "          element.innerHTML = '';\n",
       "          dataTable['output_type'] = 'display_data';\n",
       "          await google.colab.output.renderOutput(dataTable, element);\n",
       "          const docLink = document.createElement('div');\n",
       "          docLink.innerHTML = docLinkHtml;\n",
       "          element.appendChild(docLink);\n",
       "        }\n",
       "      </script>\n",
       "    </div>\n",
       "  </div>\n",
       "  "
      ],
      "text/plain": [
       "                        imp\n",
       "WeatherDelay       0.000069\n",
       "AirTime            0.001154\n",
       "LateAircraftDelay  0.002788\n",
       "TaxiOut            0.003524\n",
       "TaxiIn             0.007588\n",
       "Dest               0.008172\n",
       "ArrDelay           0.008408\n",
       "Origin             0.013872\n",
       "UniqueCarrier      0.016757\n",
       "CarrierDelay       0.020608\n",
       "CancellationCode   0.023657\n",
       "SecurityDelay      0.043538\n",
       "NASDelay           0.047581\n",
       "CRSDepTime         0.054248\n",
       "DayOfWeek          0.280671\n",
       "Month              0.467368"
      ]
     },
     "execution_count": 65,
     "metadata": {},
     "output_type": "execute_result"
    }
   ],
   "source": [
    "# 5.16 Create a dataframe of feature importances\n",
    "#      with names of columns and sorted by feature-imp\n",
    "\n",
    "imp_values = clf.best_estimator_.named_steps[\"xg\"].feature_importances_\n",
    "\n",
    "df_imp = pd.DataFrame(\n",
    "                      data = imp_values,\n",
    "                      index = colnames,\n",
    "                      columns = [\"imp\"]\n",
    "                      ).sort_values(by = 'imp')\n",
    "\n",
    "# 5.17\n",
    "df_imp"
   ]
  },
  {
   "cell_type": "code",
   "execution_count": 69,
   "metadata": {
    "colab": {
     "base_uri": "https://localhost:8080/"
    },
    "id": "9RlftnVAb-tR",
    "outputId": "8115edf6-3708-47e9-8629-dfc696265031"
   },
   "outputs": [
    {
     "data": {
      "text/plain": [
       "['WeatherDelay', 'AirTime', 'LateAircraftDelay', 'TaxiOut', 'TaxiIn']"
      ]
     },
     "execution_count": 69,
     "metadata": {},
     "output_type": "execute_result"
    }
   ],
   "source": [
    "# 5.18 First five columns with least feature importance are:\n",
    "\n",
    "list(df_imp.index.values[:5])"
   ]
  },
  {
   "cell_type": "code",
   "execution_count": 70,
   "metadata": {
    "colab": {
     "base_uri": "https://localhost:8080/",
     "height": 588
    },
    "id": "FjjGri45cJzR",
    "outputId": "e37a191f-b184-4df3-cbaa-ab5e50875338"
   },
   "outputs": [
    {
     "name": "stdout",
     "output_type": "stream",
     "text": [
      "Fitting 3 folds for each of 8 candidates, totalling 24 fits\n"
     ]
    },
    {
     "data": {
      "text/plain": [
       "GridSearchCV(cv=3,\n",
       "             estimator=Pipeline(steps=[('sts', StandardScaler()),\n",
       "                                       ('pca', PCA()),\n",
       "                                       ('xg',\n",
       "                                        XGBClassifier(n_jobs=3,\n",
       "                                                      silent=False))]),\n",
       "             n_jobs=2,\n",
       "             param_grid={'pca__n_components': [11, 11],\n",
       "                         'xg__learning_rate': [0.03, 0.05],\n",
       "                         'xg__max_depth': [4, 6]},\n",
       "             refit='roc_auc', scoring=['accuracy', 'roc_auc'], verbose=2)"
      ]
     },
     "execution_count": 70,
     "metadata": {},
     "output_type": "execute_result"
    },
    {
     "data": {
      "text/plain": [
       "44.48453968365987"
      ]
     },
     "execution_count": 70,
     "metadata": {},
     "output_type": "execute_result"
    },
    {
     "data": {
      "text/plain": [
       "0.9897002661728967"
      ]
     },
     "execution_count": 70,
     "metadata": {},
     "output_type": "execute_result"
    },
    {
     "ename": "ValueError",
     "evalue": "ignored",
     "output_type": "error",
     "traceback": [
      "\u001b[0;31m---------------------------------------------------------------------------\u001b[0m",
      "\u001b[0;31mValueError\u001b[0m                                Traceback (most recent call last)",
      "\u001b[0;32m<ipython-input-70-4294132a35f4>\u001b[0m in \u001b[0;36m<module>\u001b[0;34m\u001b[0m\n\u001b[1;32m     26\u001b[0m \u001b[0;31m#      Results may be marginally better\u001b[0m\u001b[0;34m\u001b[0m\u001b[0;34m\u001b[0m\u001b[0;34m\u001b[0m\u001b[0m\n\u001b[1;32m     27\u001b[0m \u001b[0mf1_score\u001b[0m\u001b[0;34m(\u001b[0m\u001b[0my_test\u001b[0m\u001b[0;34m,\u001b[0m\u001b[0my_pred_dr\u001b[0m\u001b[0;34m,\u001b[0m \u001b[0mpos_label\u001b[0m \u001b[0;34m=\u001b[0m \u001b[0;36m1\u001b[0m\u001b[0;34m)\u001b[0m      \u001b[0;31m# 0.8664199696263183\u001b[0m\u001b[0;34m\u001b[0m\u001b[0;34m\u001b[0m\u001b[0m\n\u001b[0;32m---> 28\u001b[0;31m \u001b[0mf1_score\u001b[0m\u001b[0;34m(\u001b[0m\u001b[0my_test\u001b[0m\u001b[0;34m,\u001b[0m\u001b[0my_pred_dr\u001b[0m\u001b[0;34m,\u001b[0m \u001b[0mpos_label\u001b[0m \u001b[0;34m=\u001b[0m \u001b[0;36m0\u001b[0m\u001b[0;34m)\u001b[0m      \u001b[0;31m# 0.729313857223354\u001b[0m\u001b[0;34m\u001b[0m\u001b[0;34m\u001b[0m\u001b[0m\n\u001b[0m\u001b[1;32m     29\u001b[0m \u001b[0mf1_score\u001b[0m\u001b[0;34m(\u001b[0m\u001b[0my_test\u001b[0m\u001b[0;34m,\u001b[0m\u001b[0my_pred\u001b[0m\u001b[0;34m,\u001b[0m \u001b[0mpos_label\u001b[0m \u001b[0;34m=\u001b[0m \u001b[0;36m1\u001b[0m\u001b[0;34m)\u001b[0m      \u001b[0;31m# 0.8664199696263183\u001b[0m\u001b[0;34m\u001b[0m\u001b[0;34m\u001b[0m\u001b[0m\n\u001b[1;32m     30\u001b[0m \u001b[0mf1_score\u001b[0m\u001b[0;34m(\u001b[0m\u001b[0my_test\u001b[0m\u001b[0;34m,\u001b[0m\u001b[0my_pred\u001b[0m\u001b[0;34m,\u001b[0m \u001b[0mpos_label\u001b[0m \u001b[0;34m=\u001b[0m \u001b[0;36m0\u001b[0m\u001b[0;34m)\u001b[0m      \u001b[0;31m# 0.729313857223354\u001b[0m\u001b[0;34m\u001b[0m\u001b[0;34m\u001b[0m\u001b[0m\n",
      "\u001b[0;32m/usr/local/lib/python3.7/dist-packages/sklearn/metrics/_classification.py\u001b[0m in \u001b[0;36mf1_score\u001b[0;34m(y_true, y_pred, labels, pos_label, average, sample_weight, zero_division)\u001b[0m\n\u001b[1;32m   1129\u001b[0m         \u001b[0maverage\u001b[0m\u001b[0;34m=\u001b[0m\u001b[0maverage\u001b[0m\u001b[0;34m,\u001b[0m\u001b[0;34m\u001b[0m\u001b[0;34m\u001b[0m\u001b[0m\n\u001b[1;32m   1130\u001b[0m         \u001b[0msample_weight\u001b[0m\u001b[0;34m=\u001b[0m\u001b[0msample_weight\u001b[0m\u001b[0;34m,\u001b[0m\u001b[0;34m\u001b[0m\u001b[0;34m\u001b[0m\u001b[0m\n\u001b[0;32m-> 1131\u001b[0;31m         \u001b[0mzero_division\u001b[0m\u001b[0;34m=\u001b[0m\u001b[0mzero_division\u001b[0m\u001b[0;34m,\u001b[0m\u001b[0;34m\u001b[0m\u001b[0;34m\u001b[0m\u001b[0m\n\u001b[0m\u001b[1;32m   1132\u001b[0m     )\n\u001b[1;32m   1133\u001b[0m \u001b[0;34m\u001b[0m\u001b[0m\n",
      "\u001b[0;32m/usr/local/lib/python3.7/dist-packages/sklearn/metrics/_classification.py\u001b[0m in \u001b[0;36mfbeta_score\u001b[0;34m(y_true, y_pred, beta, labels, pos_label, average, sample_weight, zero_division)\u001b[0m\n\u001b[1;32m   1268\u001b[0m         \u001b[0mwarn_for\u001b[0m\u001b[0;34m=\u001b[0m\u001b[0;34m(\u001b[0m\u001b[0;34m\"f-score\"\u001b[0m\u001b[0;34m,\u001b[0m\u001b[0;34m)\u001b[0m\u001b[0;34m,\u001b[0m\u001b[0;34m\u001b[0m\u001b[0;34m\u001b[0m\u001b[0m\n\u001b[1;32m   1269\u001b[0m         \u001b[0msample_weight\u001b[0m\u001b[0;34m=\u001b[0m\u001b[0msample_weight\u001b[0m\u001b[0;34m,\u001b[0m\u001b[0;34m\u001b[0m\u001b[0;34m\u001b[0m\u001b[0m\n\u001b[0;32m-> 1270\u001b[0;31m         \u001b[0mzero_division\u001b[0m\u001b[0;34m=\u001b[0m\u001b[0mzero_division\u001b[0m\u001b[0;34m,\u001b[0m\u001b[0;34m\u001b[0m\u001b[0;34m\u001b[0m\u001b[0m\n\u001b[0m\u001b[1;32m   1271\u001b[0m     )\n\u001b[1;32m   1272\u001b[0m     \u001b[0;32mreturn\u001b[0m \u001b[0mf\u001b[0m\u001b[0;34m\u001b[0m\u001b[0;34m\u001b[0m\u001b[0m\n",
      "\u001b[0;32m/usr/local/lib/python3.7/dist-packages/sklearn/metrics/_classification.py\u001b[0m in \u001b[0;36mprecision_recall_fscore_support\u001b[0;34m(y_true, y_pred, beta, labels, pos_label, average, warn_for, sample_weight, zero_division)\u001b[0m\n\u001b[1;32m   1542\u001b[0m     \u001b[0;32mif\u001b[0m \u001b[0mbeta\u001b[0m \u001b[0;34m<\u001b[0m \u001b[0;36m0\u001b[0m\u001b[0;34m:\u001b[0m\u001b[0;34m\u001b[0m\u001b[0;34m\u001b[0m\u001b[0m\n\u001b[1;32m   1543\u001b[0m         \u001b[0;32mraise\u001b[0m \u001b[0mValueError\u001b[0m\u001b[0;34m(\u001b[0m\u001b[0;34m\"beta should be >=0 in the F-beta score\"\u001b[0m\u001b[0;34m)\u001b[0m\u001b[0;34m\u001b[0m\u001b[0;34m\u001b[0m\u001b[0m\n\u001b[0;32m-> 1544\u001b[0;31m     \u001b[0mlabels\u001b[0m \u001b[0;34m=\u001b[0m \u001b[0m_check_set_wise_labels\u001b[0m\u001b[0;34m(\u001b[0m\u001b[0my_true\u001b[0m\u001b[0;34m,\u001b[0m \u001b[0my_pred\u001b[0m\u001b[0;34m,\u001b[0m \u001b[0maverage\u001b[0m\u001b[0;34m,\u001b[0m \u001b[0mlabels\u001b[0m\u001b[0;34m,\u001b[0m \u001b[0mpos_label\u001b[0m\u001b[0;34m)\u001b[0m\u001b[0;34m\u001b[0m\u001b[0;34m\u001b[0m\u001b[0m\n\u001b[0m\u001b[1;32m   1545\u001b[0m \u001b[0;34m\u001b[0m\u001b[0m\n\u001b[1;32m   1546\u001b[0m     \u001b[0;31m# Calculate tp_sum, pred_sum, true_sum ###\u001b[0m\u001b[0;34m\u001b[0m\u001b[0;34m\u001b[0m\u001b[0;34m\u001b[0m\u001b[0m\n",
      "\u001b[0;32m/usr/local/lib/python3.7/dist-packages/sklearn/metrics/_classification.py\u001b[0m in \u001b[0;36m_check_set_wise_labels\u001b[0;34m(y_true, y_pred, average, labels, pos_label)\u001b[0m\n\u001b[1;32m   1355\u001b[0m                 \u001b[0;32mif\u001b[0m \u001b[0mlen\u001b[0m\u001b[0;34m(\u001b[0m\u001b[0mpresent_labels\u001b[0m\u001b[0;34m)\u001b[0m \u001b[0;34m>=\u001b[0m \u001b[0;36m2\u001b[0m\u001b[0;34m:\u001b[0m\u001b[0;34m\u001b[0m\u001b[0;34m\u001b[0m\u001b[0m\n\u001b[1;32m   1356\u001b[0m                     raise ValueError(\n\u001b[0;32m-> 1357\u001b[0;31m                         \u001b[0;34mf\"pos_label={pos_label} is not a valid label. It \"\u001b[0m\u001b[0;34m\u001b[0m\u001b[0;34m\u001b[0m\u001b[0m\n\u001b[0m\u001b[1;32m   1358\u001b[0m                         \u001b[0;34mf\"should be one of {present_labels}\"\u001b[0m\u001b[0;34m\u001b[0m\u001b[0;34m\u001b[0m\u001b[0m\n\u001b[1;32m   1359\u001b[0m                     )\n",
      "\u001b[0;31mValueError\u001b[0m: pos_label=0 is not a valid label. It should be one of [1.0, 2.0]"
     ]
    }
   ],
   "source": [
    "# 5.19 Let us drop these from X_train and X_test\n",
    "Xtrain = X_train.drop(columns = list(df_imp.index.values[:5]))\n",
    "Xtest = X_test.drop(columns = list(df_imp.index.values[:5]))\n",
    "\n",
    "# 5.20 Build model again with reduced dataset\n",
    "clf_dr = GridSearchCV(pipe_xg,            # pipeline object\n",
    "                      parameters,         # possible parameters\n",
    "                      n_jobs = 2,         # USe parallel cpu threads\n",
    "                      cv =3 ,             # No of folds\n",
    "                      verbose =2,         # Higher the value, more the verbosity\n",
    "                      scoring = ['accuracy', 'roc_auc'],  # Metrics for performance\n",
    "                      refit = 'roc_auc'   # Refitting final model on what parameters?\n",
    "                                       # Those which maximise auc\n",
    "                     )\n",
    "\n",
    "# 5.21\n",
    "start = time.time()\n",
    "clf_dr.fit(Xtrain, y_train)\n",
    "end = time.time()\n",
    "(end - start)/60               # 45 minutes\n",
    "\n",
    "# 5.22 Make predictions\n",
    "y_pred_dr = clf_dr.predict(Xtest)\n",
    "\n",
    "\n"
   ]
  },
  {
   "cell_type": "code",
   "execution_count": 71,
   "metadata": {
    "colab": {
     "base_uri": "https://localhost:8080/"
    },
    "id": "ZPcRSe36016V",
    "outputId": "685cde5e-8d65-4e04-8c0a-aaee22c7ffdf"
   },
   "outputs": [
    {
     "data": {
      "text/plain": [
       "0.9814331609842832"
      ]
     },
     "execution_count": 71,
     "metadata": {},
     "output_type": "execute_result"
    },
    {
     "data": {
      "text/plain": [
       "0.9897002661728967"
      ]
     },
     "execution_count": 71,
     "metadata": {},
     "output_type": "execute_result"
    },
    {
     "data": {
      "text/plain": [
       "0.9778623756358169"
      ]
     },
     "execution_count": 71,
     "metadata": {},
     "output_type": "execute_result"
    },
    {
     "data": {
      "text/plain": [
       "0.9876572276563715"
      ]
     },
     "execution_count": 71,
     "metadata": {},
     "output_type": "execute_result"
    }
   ],
   "source": [
    "# 5.23 Compare results.\n",
    "#      Results may be marginally better\n",
    "f1_score(y_test,y_pred_dr, pos_label = 2)      # 0.9814331609842832\n",
    "f1_score(y_test,y_pred_dr, pos_label = 1)      # 0.9897002661728967\n",
    "f1_score(y_test,y_pred, pos_label = 2)      # 0.9778623756358169\n",
    "f1_score(y_test,y_pred, pos_label = 1)      # 0.9876572276563715\n",
    "##################################"
   ]
  },
  {
   "cell_type": "code",
   "execution_count": 75,
   "metadata": {
    "id": "davRctGmcKT1"
   },
   "outputs": [],
   "source": [
    "##################### Randomized Search #################\n",
    "\n",
    "# Tune parameters using randomized search\n",
    "# 5.24 Hyperparameters to tune and their ranges\n",
    "parameters = {'xg__learning_rate':  uniform(0, 1),\n",
    "              'xg__n_estimators':   range(50,300),\n",
    "              'xg__max_depth':      range(3,10),\n",
    "              'pca__n_components' : range(10,16)}"
   ]
  },
  {
   "cell_type": "code",
   "execution_count": 76,
   "metadata": {
    "id": "aiHLQwBacKqS"
   },
   "outputs": [],
   "source": [
    "# 5.25 Tune parameters using random search\n",
    "#     Create the object first\n",
    "\n",
    "rs = RandomizedSearchCV(\n",
    "                          pipe_xg,\n",
    "                          param_distributions=parameters,\n",
    "                          scoring= ['roc_auc', 'accuracy'],\n",
    "                          n_iter=4,           # Max combination of\n",
    "                                              # parameter to try. Default = 10\n",
    "                          verbose = 1,\n",
    "                          refit = 'roc_auc',\n",
    "                          n_jobs = 2,          # Use parallel cpu threads\n",
    "                          cv = 2               # No of folds.\n",
    "                                              # So n_iter * cv combinations\n",
    "                        )\n"
   ]
  },
  {
   "cell_type": "code",
   "execution_count": 77,
   "metadata": {
    "colab": {
     "base_uri": "https://localhost:8080/"
    },
    "id": "vV463dyyb_B4",
    "outputId": "d204035d-c60c-4163-ed35-7746cb01097b"
   },
   "outputs": [
    {
     "name": "stdout",
     "output_type": "stream",
     "text": [
      "Fitting 2 folds for each of 4 candidates, totalling 8 fits\n"
     ]
    },
    {
     "data": {
      "text/plain": [
       "RandomizedSearchCV(cv=2,\n",
       "                   estimator=Pipeline(steps=[('sts', StandardScaler()),\n",
       "                                             ('pca', PCA()),\n",
       "                                             ('xg',\n",
       "                                              XGBClassifier(n_jobs=3,\n",
       "                                                            silent=False))]),\n",
       "                   n_iter=4, n_jobs=2,\n",
       "                   param_distributions={'pca__n_components': range(10, 16),\n",
       "                                        'xg__learning_rate': <scipy.stats._distn_infrastructure.rv_frozen object at 0x7fc8565e7090>,\n",
       "                                        'xg__max_depth': range(3, 10),\n",
       "                                        'xg__n_estimators': range(50, 300)},\n",
       "                   refit='roc_auc', scoring=['roc_auc', 'accuracy'], verbose=1)"
      ]
     },
     "execution_count": 77,
     "metadata": {},
     "output_type": "execute_result"
    },
    {
     "name": "stdout",
     "output_type": "stream",
     "text": [
      "\n"
     ]
    },
    {
     "data": {
      "text/plain": [
       "27.383730379740395"
      ]
     },
     "execution_count": 77,
     "metadata": {},
     "output_type": "execute_result"
    }
   ],
   "source": [
    "# 5.26 Run random search for 25 iterations. 28 minutes:\n",
    "\n",
    "start = time.time()\n",
    "rs.fit(X_train, y_train)\n",
    "end = time.time()\n",
    "print()\n",
    "(end - start)/60   # 4 minutes"
   ]
  },
  {
   "cell_type": "code",
   "execution_count": 78,
   "metadata": {
    "colab": {
     "base_uri": "https://localhost:8080/",
     "height": 90
    },
    "id": "PYvRhbHOcSTb",
    "outputId": "ea13adba-5057-4034-a297-016c9d19a7a5"
   },
   "outputs": [
    {
     "data": {
      "application/vnd.google.colaboratory.intrinsic+json": {
       "type": "string"
      },
      "text/plain": [
       "'Best score: 0.9998203615823658 '"
      ]
     },
     "execution_count": 78,
     "metadata": {},
     "output_type": "execute_result"
    },
    {
     "name": "stdout",
     "output_type": "stream",
     "text": [
      "\n"
     ]
    },
    {
     "data": {
      "application/vnd.google.colaboratory.intrinsic+json": {
       "type": "string"
      },
      "text/plain": [
       "\"Best parameter set: {'pca__n_components': 14, 'xg__learning_rate': 0.11878344202311353, 'xg__max_depth': 5, 'xg__n_estimators': 232} \""
      ]
     },
     "execution_count": 78,
     "metadata": {},
     "output_type": "execute_result"
    },
    {
     "name": "stdout",
     "output_type": "stream",
     "text": [
      "\n"
     ]
    },
    {
     "data": {
      "application/vnd.google.colaboratory.intrinsic+json": {
       "type": "string"
      },
      "text/plain": [
       "'Accuracy: 99.36466638114062'"
      ]
     },
     "execution_count": 78,
     "metadata": {},
     "output_type": "execute_result"
    },
    {
     "name": "stdout",
     "output_type": "stream",
     "text": [
      "\n"
     ]
    },
    {
     "data": {
      "application/vnd.google.colaboratory.intrinsic+json": {
       "type": "string"
      },
      "text/plain": [
       "'f1 score: 0.9950483561756316'"
      ]
     },
     "execution_count": 78,
     "metadata": {},
     "output_type": "execute_result"
    },
    {
     "name": "stdout",
     "output_type": "stream",
     "text": [
      "\n"
     ]
    }
   ],
   "source": [
    "# 5.27 Evaluate\n",
    "f\"Best score: {rs.best_score_} \" ;print()           # 'Best score: 0.9998203615823658 '\n",
    "f\"Best parameter set: {rs.best_params_} \" ; print()\n",
    "\n",
    "\n",
    "# 5.28 Make predictions from the best returned model\n",
    "y_pred = rs.predict(X_test)\n",
    "\n",
    "\n",
    "# 5.29 Accuracy and f1_score\n",
    "accuracy = accuracy_score(y_test, y_pred)\n",
    "f\"Accuracy: {accuracy * 100.0}\"   ; print()      # 'Accuracy: 99.36466638114062'\n",
    "f\"f1 score: {f1_score(y_test,y_pred, pos_label = 1)}\" ; print()     # 0.9950483561756316\n"
   ]
  },
  {
   "cell_type": "code",
   "execution_count": 79,
   "metadata": {
    "id": "W2htFJsecSl9"
   },
   "outputs": [],
   "source": [
    "# 5.30 Laydown search space of parameters     \n",
    "\n",
    "params={\n",
    "         'min_child_weight': Integer(0, 50),\n",
    "         'max_depth': Integer(1, 10),\n",
    "         'subsample': Real (0.5, 1.0, 'uniform'),\n",
    "         'colsample_bytree': Real(0.5, 1.0, 'uniform'),\n",
    "         'reg_lambda':Real(1e-5,100,prior = 'log-uniform'),\n",
    "         'reg_alpha': Real(1e-5,100,prior= 'log-uniform'),\n",
    "         'gamma': Real(1e-9, 0.5, 'log-uniform'),\n",
    "         'learning-rate': Real(0.01,0.2,prior='log-uniform'),\n",
    "         'scale_pos_weight': Real(1e-6, 500, 'log-uniform'),\n",
    "         'n_estimators': Integer(50, 100)\n",
    "        }"
   ]
  },
  {
   "cell_type": "code",
   "execution_count": 80,
   "metadata": {
    "id": "Cz-KlhrjccIv"
   },
   "outputs": [],
   "source": [
    "# 5.31 Define our classifier:\n",
    "bayes_tuner=BayesSearchCV(\n",
    "                            XGBClassifier(\n",
    "                                            n_jobs = 1,\n",
    "                                            objective = 'binary:logistic',\n",
    "                                            eval_metric = 'auc',\n",
    "                                            silent=1,\n",
    "                                            tree_method='approx'\n",
    "                                            ),\n",
    "                            params,\n",
    "                            n_iter=5,              # No of parameter settings that are tried \n",
    "                            scoring='roc_auc',     # List of scores CANNOT be used\n",
    "                            cv = StratifiedKFold(\n",
    "                                                  n_splits=3,\n",
    "                                                  shuffle=True,\n",
    "                                                  random_state=42\n",
    "                                                ),\n",
    "                            refit = True, # Refit the best estimator so as to make predictions\n",
    "                            verbose = 1,\n",
    "                            return_train_score= True\n",
    "                    )\n"
   ]
  },
  {
   "cell_type": "code",
   "execution_count": 81,
   "metadata": {
    "id": "cq-6ZTWCccdj"
   },
   "outputs": [],
   "source": [
    "# 5.32 This function is called after each parameter\n",
    "#      fitting to print current status:\n",
    "\n",
    "def status_print(optim_result):\n",
    "  \"\"\"Status callback durring bayesian hyperparameter search\"\"\"\n",
    "\n",
    "  # 10.2.1 Get all the models tested so far in DataFrame format\n",
    "  # cv_results_: A dict with keys as column headers and\n",
    "  #              values as columns\n",
    "  #        model_results dataframe is not being printed\n",
    "  model_results = pd.DataFrame(bayes_tuner.cv_results_)    \n",
    "  \n",
    "  # 10.2.2 Get current parameters and the best parameters   \n",
    "  # best_params_: A dict of parameter settings that \n",
    "  #               give the best results on the hold out data. \n",
    "  best_params = pd.Series(bayes_tuner.best_params_)\n",
    "  \n",
    "  print('Model #{}\\nBest ROC-AUC: {}\\nBest params: {}\\n'.format(\n",
    "        len(model_results),\n",
    "        np.round(bayes_tuner.best_score_, 4),  # Score of best_estimator on the left out data.\n",
    "        bayes_tuner.best_params_\n",
    "    ))"
   ]
  },
  {
   "cell_type": "code",
   "execution_count": 82,
   "metadata": {
    "colab": {
     "base_uri": "https://localhost:8080/"
    },
    "id": "qPUo5OfxccxK",
    "outputId": "667cee3c-9104-4de0-c91b-3e009571fc49"
   },
   "outputs": [
    {
     "name": "stdout",
     "output_type": "stream",
     "text": [
      "Fitting 3 folds for each of 1 candidates, totalling 3 fits\n",
      "Fitting 3 folds for each of 1 candidates, totalling 3 fits\n",
      "Fitting 3 folds for each of 1 candidates, totalling 3 fits\n",
      "Fitting 3 folds for each of 1 candidates, totalling 3 fits\n",
      "Fitting 3 folds for each of 1 candidates, totalling 3 fits\n"
     ]
    },
    {
     "data": {
      "text/plain": [
       "18.63536267677943"
      ]
     },
     "execution_count": 82,
     "metadata": {},
     "output_type": "execute_result"
    }
   ],
   "source": [
    "# 5.33 Begin parameter tuning\n",
    "\n",
    "start = time.time()\n",
    "res=bayes_tuner.fit(\n",
    "                      X_train,\n",
    "                      y_train,\n",
    "                      #callback=status_print\n",
    "                    )\n",
    "\n",
    "end = time.time()\n",
    "(end - start)/60   # 19 minutes on Colab"
   ]
  },
  {
   "cell_type": "code",
   "execution_count": 83,
   "metadata": {
    "colab": {
     "base_uri": "https://localhost:8080/"
    },
    "id": "2RataCuxcdEg",
    "outputId": "9ebf425b-2eeb-467a-965b-68f5d8d8394a"
   },
   "outputs": [
    {
     "data": {
      "text/plain": [
       "XGBClassifier(colsample_bytree=0.9528984932353028, eval_metric='auc',\n",
       "              gamma=0.00016047406932743086, learning-rate=0.04867474291935415,\n",
       "              max_depth=4, min_child_weight=41, n_estimators=77,\n",
       "              reg_alpha=2.3181984426726303, reg_lambda=19.818880518896027,\n",
       "              scale_pos_weight=51.37355692405864, silent=1,\n",
       "              subsample=0.8753429948754732, tree_method='approx')"
      ]
     },
     "execution_count": 83,
     "metadata": {},
     "output_type": "execute_result"
    }
   ],
   "source": [
    "# 5.34 Get results\n",
    "res.best_estimator_\n"
   ]
  },
  {
   "cell_type": "code",
   "execution_count": 84,
   "metadata": {
    "colab": {
     "base_uri": "https://localhost:8080/"
    },
    "id": "YxIoaEeCcde_",
    "outputId": "f0918cf3-b776-4b62-b65f-34cb49a2f5ee"
   },
   "outputs": [
    {
     "data": {
      "text/plain": [
       "1.0"
      ]
     },
     "execution_count": 84,
     "metadata": {},
     "output_type": "execute_result"
    }
   ],
   "source": [
    "# 5.35\n",
    "res.best_score_\n"
   ]
  },
  {
   "cell_type": "code",
   "execution_count": 85,
   "metadata": {
    "colab": {
     "base_uri": "https://localhost:8080/"
    },
    "id": "FB1W0RcDcS3v",
    "outputId": "844861ac-fa6e-476c-b9d2-59bd11ac8f5d"
   },
   "outputs": [
    {
     "data": {
      "text/plain": [
       "OrderedDict([('colsample_bytree', 0.9528984932353028),\n",
       "             ('gamma', 0.00016047406932743086),\n",
       "             ('learning-rate', 0.04867474291935415),\n",
       "             ('max_depth', 4),\n",
       "             ('min_child_weight', 41),\n",
       "             ('n_estimators', 77),\n",
       "             ('reg_alpha', 2.3181984426726303),\n",
       "             ('reg_lambda', 19.818880518896027),\n",
       "             ('scale_pos_weight', 51.37355692405864),\n",
       "             ('subsample', 0.8753429948754732)])"
      ]
     },
     "execution_count": 85,
     "metadata": {},
     "output_type": "execute_result"
    }
   ],
   "source": [
    "# 5.36\n",
    "res.best_params_"
   ]
  }
 ],
 "metadata": {
  "colab": {
   "collapsed_sections": [],
   "name": "Version-2.ipynb",
   "provenance": []
  },
  "kernelspec": {
   "display_name": "Python 3",
   "language": "python",
   "name": "python3"
  },
  "language_info": {
   "codemirror_mode": {
    "name": "ipython",
    "version": 3
   },
   "file_extension": ".py",
   "mimetype": "text/x-python",
   "name": "python",
   "nbconvert_exporter": "python",
   "pygments_lexer": "ipython3",
   "version": "3.8.8"
  }
 },
 "nbformat": 4,
 "nbformat_minor": 1
}
